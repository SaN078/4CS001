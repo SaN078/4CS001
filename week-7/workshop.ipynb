{
 "cells": [
  {
   "cell_type": "markdown",
   "metadata": {},
   "source": [
    "1.\tExplain the concept of file modes in Python. Provide a brief description of at least three file modes commonly used in file handling. How does the choice of mode affect the way a file is opened and processed?\n",
    "-> In Python, file modes specify operations when opening files. 'r' (Read) reads content from the file. 'w' (Write) truncates and writes new data, potentially overwriting the file. 'a' (Append) adds content to the end without truncation. These modes affect file positioning, content preservation, and creation behavior. Caution is advised, especially with 'w' mode, to prevent unintended data loss. The `with` statement ensures proper file closure after operations.\n",
    "\n",
    "2.\tDiscuss the difference between writing and appending to a file in Python. When would you choose one over the other? Provide an example scenario where appending to a file is more suitable than writing to it.\n",
    "-> In Python, writing to a file ('w' mode) truncates existing content and overwrites it, while appending ('a' mode) adds data to the end without truncation. Choose 'w' for creating or completely rewriting a file, and 'a' for adding content without erasing existing data. For example, when maintaining a log file, 'a' is suitable to continuously append new entries, ensuring preservation of historical data, whereas 'w' would reset the log each time, leading to data loss.\n",
    "\n",
    "3.\tEnumerate and explain three best practices for proper file handling in Python. Consider aspects such as opening and closing files, error handling, and resource management.\n",
    "-> \n",
    "1. **Use the `with` Statement:** Employ the `with` statement to ensure proper file closure, enhancing resource management and preventing potential issues.\n",
    "\n",
    "2. **Exception Handling:** Implement try-except blocks to handle potential errors during file operations, improving robustness and preventing program crashes.\n",
    "\n",
    "3. **Specify File Encoding:** Explicitly define the file encoding (e.g., 'utf-8') when opening files to avoid unexpected character encoding issues, promoting consistent data handling across platforms. These practices enhance reliability, maintainability, and resource efficiency in Python file handling.\n",
    "\n",
    "4.\tDiscuss the potential consequences of not closing a file explicitly. How does Python handle file closing when using the with statement, and why is it considered a good practice in file handling?\n",
    "-> Not closing a file explicitly in Python can lead to resource leaks and unexpected behavior. When a file is not closed, it may remain locked, preventing other processes from accessing or modifying it. This can result in data corruption or loss. \n",
    "\n",
    "The `with` statement in Python automatically closes the file when the associated block is exited, even if an exception occurs. This ensures proper resource management, preventing memory leaks and potential issues with file locks. Explicit closure using `with` is considered good practice, enhancing code readability, reliability, and reducing the likelihood of bugs related to unclosed files."
   ]
  },
  {
   "cell_type": "markdown",
   "metadata": {},
   "source": [
    "**Part 2**"
   ]
  },
  {
   "cell_type": "markdown",
   "metadata": {},
   "source": []
  },
  {
   "cell_type": "markdown",
   "metadata": {},
   "source": [
    "1.  Create a program in Python that opens a file named 'datafile.txt' for\n",
    "\treading and assigns identifier input_file to the file object created.\n"
   ]
  },
  {
   "cell_type": "code",
   "execution_count": null,
   "metadata": {},
   "outputs": [],
   "source": [
    "f=open(\"datafile.txt\",\"r\")\n",
    "x=f.read()\n",
    "print(x)\n",
    "f.close()\n"
   ]
  },
  {
   "cell_type": "markdown",
   "metadata": {},
   "source": [
    "\n",
    "2.  Create a program in Python that opens a file named 'datafile2.txt'\n",
    "\tfor writing and assigns identifier output_file to the file object created.\n"
   ]
  },
  {
   "cell_type": "code",
   "execution_count": null,
   "metadata": {},
   "outputs": [],
   "source": [
    "output_file=open(\"Datafile2.txt\",\"w\")\n",
    "x=output_file.write(\"hello\")\n",
    "print(x)\n",
    "f.close()\n"
   ]
  },
  {
   "cell_type": "markdown",
   "metadata": {},
   "source": [
    "3.  Assume that input_file is a file object for a text file open for reading,\n",
    "\tand output_file is a file object for a text file open for writing. Explain the\n",
    "\tcontents of the output after the following code terminates:\n",
    "\n",
    "empty_str=\"\"\n",
    "line=input_file.readline()\n",
    "while line != empty_str:\n",
    "    output_file.write(line+\"\\n\")\n",
    "#solution\n",
    "here, The loop runs as long as the line is not equal to an empty string. Here, readline() reads the file line by line and this gets written to another file with object output_file as long as the condition is met.\n"
   ]
  },
  {
   "cell_type": "markdown",
   "metadata": {},
   "source": [
    "\n",
    "4.\tIdentify and solve the error.\n"
   ]
  },
  {
   "cell_type": "code",
   "execution_count": null,
   "metadata": {},
   "outputs": [],
   "source": [
    "input_file_opened=False\n",
    "while not input_file_opened:\n",
    "    try:\n",
    "        file_name=input(\"Enter file name: \")\n",
    "        input_file=open(file_name,\"r\")\n",
    "        print(input_file.read())\n",
    "        input_file.close()\n",
    "        input_file_opened=True\n",
    "    except:\n",
    "        print(\"File not found\")\n"
   ]
  },
  {
   "cell_type": "markdown",
   "metadata": {},
   "source": [
    "1.\tWrite a Python function called reduce_spaces that is given a line read\n",
    "\tfrom a text file and returns the line with all extra space characters removed:\n",
    "\t‘This line has extra space characters’ → ’This line has extra space characters’\n"
   ]
  },
  {
   "cell_type": "code",
   "execution_count": null,
   "metadata": {},
   "outputs": [],
   "source": [
    "try:\n",
    "    f=open(\"123.txt\",\"r\")\n",
    "    x=f.read()\n",
    "    y=x.split(\" \")\n",
    "    print(y)\n",
    "    list_1=[]\n",
    "    for i in y:\n",
    "        list_1.append(i)\n",
    "    \n",
    "    while (\"\") in list_1:\n",
    "        list_1.remove(\"\")\n",
    "    print(list_1)\n",
    "    stri=\"\"\n",
    "    for j in list_1:\n",
    "        stri=stri+j+\" \"\n",
    "    \n",
    "    print(stri)\n",
    "except:\n",
    "    print(\"Invalid name\")"
   ]
  },
  {
   "cell_type": "markdown",
   "metadata": {},
   "source": [
    "2.  Write a Python function named extract_temp that is given a line read\n",
    "\tfrom a text file and displays the one number (integer) found in the string:\n",
    "\t’The high today will be 75 degrees’ → 75.\n"
   ]
  },
  {
   "cell_type": "code",
   "execution_count": null,
   "metadata": {},
   "outputs": [],
   "source": [
    "try:\n",
    "    f=open(\"123.txt\",\"r\")\n",
    "    y=f.read()\n",
    "    f.close()\n",
    "except:\n",
    "    print(\"Invalid filename\")\n",
    "    \n",
    "def extract_temp(line):\n",
    "    x=y.split()\n",
    "    for i in x:\n",
    "        if (i.isdigit()):\n",
    "            print(i)\n",
    "        else:\n",
    "            pass\n",
    "    \n",
    "extract_temp(y)\n"
   ]
  },
  {
   "cell_type": "markdown",
   "metadata": {},
   "source": [
    "3.  Write a Python function named check_quotes that is given a line read\n",
    "\tfrom a text file and returns True if each quote characters in the line has a\n",
    "\tmatching quote (of the same type), otherwise returns False.\n",
    "\t‘Today’s high temperature will be 75 degrees’ → False\n"
   ]
  },
  {
   "cell_type": "code",
   "execution_count": null,
   "metadata": {},
   "outputs": [],
   "source": [
    "try:\n",
    "    f=open(\"123.txt\",\"r\")\n",
    "    x=f.read()\n",
    "    f.close()\n",
    "    print(x)\n",
    "except:\n",
    "    print(\"Invalid file name\")\n",
    "\n",
    "def check_quotes(line):\n",
    "    quote=\"Todayâ€™s high temperature will be 75 degrees\"\n",
    "    x1=quote.split(\" \")\n",
    "    list_1=[]\n",
    "    for i in x1:\n",
    "        list_1.append(i)\n",
    "    list_2=[]\n",
    "    x2=x.split(\" \")\n",
    "    for j in x2:\n",
    "        list_2.append(j)\n",
    "    set1=set(list_1)\n",
    "    set2=set(list_2)\n",
    "    z=set1.issubset(set2)\n",
    "    return z\n"
   ]
  },
  {
   "cell_type": "markdown",
   "metadata": {},
   "source": [
    "4.  Write a Python function named count_letters that is given a line read\n",
    "\tfrom a text file and returns a list containing every letter in the line and the\n",
    "\tnumber of times that each letter appears (with upper/lower case letters counted\n",
    "\ttogether)\n",
    "\t‘This is a line’ → [ (‘t’, 1), (‘h’, 1), (‘i’, 3), (‘s’, 2), (‘a’, 1), (‘l’, 1), (‘n’, 1), (‘e’, 1) ]\n"
   ]
  },
  {
   "cell_type": "code",
   "execution_count": null,
   "metadata": {},
   "outputs": [],
   "source": [
    "try:\n",
    "    f=open(\"123.txt\")\n",
    "    x=f.read()\n",
    "    f.close()\n",
    "except:\n",
    "    print(\"Invalid Filename\")\n",
    "\n",
    "def count_letters(lines):\n",
    "    l1=[]\n",
    "    line=(lines.lower()).split(\" \")\n",
    "    for i in line:\n",
    "        for k in i:\n",
    "            l1.append(k)\n",
    "    l2=[]\n",
    "    for j in l1:\n",
    "        y1=str(l1.count(j))\n",
    "        y2=str((j,y1)).strip(\"\")    ##\n",
    "        y3=j.replace(j,y2)\t#or y3=j.replace(j,(\"(\"+\"\\'\"+j+\"\\'\"+\", \"+y1+\")\"))\n",
    "        \n",
    "        l2.append(y3)\n",
    "    l3=[]\n",
    "    l3=list(dict.fromkeys(l2))\n",
    "    l4=str(l3).replace('\"',\"\")\n",
    "    print(l4)\n",
    "count_letters(x)\n"
   ]
  },
  {
   "cell_type": "markdown",
   "metadata": {},
   "source": [
    "5.  Write a Python function named interleave_chars that is given two\n",
    "\tlines read from a text, and returns a single string containing the characters of\n",
    "\teach string interleaved: ‘Hello’, ‘Goodbye’ → ‘HGeololdobye’\n"
   ]
  },
  {
   "cell_type": "code",
   "execution_count": null,
   "metadata": {},
   "outputs": [],
   "source": [
    "try:\n",
    "    f=open(\"123.txt\")\n",
    "    a=f.readline()\n",
    "    b=f.readline()\n",
    "    f.close()\n",
    "except:\n",
    "    print(\"Invalid filename\")\n",
    "\n",
    "def interleave_chars(line1,line2):\n",
    "    a1=[]\n",
    "    b1=[]\n",
    "    for i in line1.strip(\"\\n\"):\n",
    "        a1.append(i)\n",
    "    a1.append(\"\")\n",
    "    a1.append(\"\")\n",
    "    for j in line2.strip(\"\\n\"):\n",
    "        b1.append(j)\n",
    "    for k in range(0,len(b1)):\n",
    "        z=a1[k]+b1[k]\n",
    "        print(z,end=\"\")\n",
    "interleave_chars(a,b)\n"
   ]
  },
  {
   "cell_type": "markdown",
   "metadata": {},
   "source": [
    "6.  Give a for loop that counts all the characters in a string assigned to variable\n",
    "\tline, except blanks and the newline character."
   ]
  },
  {
   "cell_type": "code",
   "execution_count": null,
   "metadata": {},
   "outputs": [],
   "source": [
    "try:\n",
    "    f=open(\"123.txt\")\n",
    "    x=[]\n",
    "    for i in f:\n",
    "        y1=i.strip(\"\\n\")\n",
    "        for j in y1:\n",
    "            x.append(j)\n",
    "    while \" \" in x:\n",
    "        x.remove(\" \")\n",
    "    f.close()\n",
    "    l2=[]\n",
    "    for i in x:\n",
    "        count_1=(x.count(i))\n",
    "        l2.append((i,count_1))\n",
    "    l3=list(dict.fromkeys(l2))\n",
    "    print(l3)\n",
    "except:\n",
    "    print(\"invalid filename\")\n",
    "\t\n"
   ]
  },
  {
   "cell_type": "markdown",
   "metadata": {},
   "source": [
    "7.  For variable month which contains the full name of any given month, give\n",
    "\tan expression to display just the first three letters of the month.\n"
   ]
  },
  {
   "cell_type": "code",
   "execution_count": null,
   "metadata": {},
   "outputs": [],
   "source": [
    "try:\n",
    "    f=open(\"123.txt\")\n",
    "    a=f.read()\n",
    "    f.close()\n",
    "    print(a[0:3])\n",
    "except:\n",
    "    print(\"invalid filename\")\n"
   ]
  },
  {
   "cell_type": "markdown",
   "metadata": {},
   "source": [
    "8.  Give an expression that displays True if the letter ‘r’ appears in a given\n",
    "\tmonth name stored in variable month, otherwise displays False.\n"
   ]
  },
  {
   "cell_type": "code",
   "execution_count": null,
   "metadata": {},
   "outputs": [],
   "source": [
    "\n",
    "month=input(\"Enter a month: \")\n",
    "if (\"r\" in month):\n",
    "    print(\"True\")\n",
    "else:\n",
    "    print(\"False\")\n"
   ]
  },
  {
   "cell_type": "markdown",
   "metadata": {},
   "source": [
    "9.  Give an expression for determining how many times the letter ‘r’ appears in a\n",
    "\tgiven month name stored in variable month."
   ]
  },
  {
   "cell_type": "code",
   "execution_count": null,
   "metadata": {},
   "outputs": [],
   "source": [
    "month=input(\"Enter a month: \")\n",
    "x=month.count(\"r\")\n",
    "print(x)\n"
   ]
  },
  {
   "cell_type": "markdown",
   "metadata": {},
   "source": [
    "10.  For a person’s first name stored in variable first_name, and last name\n",
    "\t stored in variable last_name, give an expression that displays the person’s\n",
    "\t name formatted exactly as follows: Jones, William.\n"
   ]
  },
  {
   "cell_type": "code",
   "execution_count": null,
   "metadata": {},
   "outputs": [],
   "source": [
    "first_name=input(\"Enter first name: \")\n",
    "last_name=input(\"Enter last name: \")\n",
    "print(last_name+\",\"+\" \"+first_name)\n"
   ]
  },
  {
   "cell_type": "markdown",
   "metadata": {},
   "source": [
    "\n",
    "\n",
    "11.  Give an instruction that determines if a given social security number\n",
    "\trepresented as a string and stored in variable ss_num, contains any non- digits.\n"
   ]
  },
  {
   "cell_type": "code",
   "execution_count": null,
   "metadata": {},
   "outputs": [],
   "source": [
    "ss_num=input(\"Enter social security number: \")\n",
    "new=filter(str.isdigit,ss_num)\n",
    "new2=\"\".join(new)\n",
    "if (ss_num==new2):\n",
    "    print(\"No non-digits\")\n",
    "else:\n",
    "    print(\"YES! Non-digits are present\")\n"
   ]
  },
  {
   "cell_type": "markdown",
   "metadata": {},
   "source": [
    "12.  Give an instruction that determines the index of the ‘@’ character in an\n",
    "\t email address stored in variable email_addr.\n"
   ]
  },
  {
   "cell_type": "code",
   "execution_count": null,
   "metadata": {},
   "outputs": [],
   "source": [
    "email_addr=input(\"Enter email-address: \")\n",
    "if (\"@\" in email_addr):\n",
    "    index_position=email_addr.index(\"@\")\n",
    "    print(index_position)\n",
    "else:\n",
    "    print(\"Not present\")\n"
   ]
  },
  {
   "cell_type": "markdown",
   "metadata": {},
   "source": [
    "13.  For a variable named date containing a date in the form 12/14/2012, give\n",
    "\t an expression that replaces all slashes characters with dashes.\n"
   ]
  },
  {
   "cell_type": "code",
   "execution_count": null,
   "metadata": {},
   "outputs": [],
   "source": [
    "date=input(\"Enter date: \")\n",
    "x=date.replace(\"/\",\"-\")\n",
    "print(x)\n",
    "\n",
    "\n"
   ]
  },
  {
   "cell_type": "markdown",
   "metadata": {},
   "source": [
    "14.  For a variable named err_mesg that contains error messages in the form\n",
    "\t** error message **, give an expression that produces a string containing the\n",
    "\terror message without the leading and trailing asterisks and blank characters.\n",
    "#solution\n"
   ]
  },
  {
   "cell_type": "code",
   "execution_count": null,
   "metadata": {},
   "outputs": [],
   "source": [
    "err_mesg=input(\"Enter error message: \")\n",
    "x=err_mesg.strip(\"*\")\n",
    "y=x.strip(\" \")\n",
    "print(y)\n"
   ]
  }
 ],
 "metadata": {
  "language_info": {
   "name": "python"
  }
 },
 "nbformat": 4,
 "nbformat_minor": 2
}
