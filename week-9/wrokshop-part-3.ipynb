{
 "cells": [
  {
   "cell_type": "markdown",
   "metadata": {},
   "source": [
    "\n",
    "1.\tWrite a Python program that prompts the user to enter a string and then converts it to an integer. Handle the ValueError exception that may occur if the string cannot be converted to an integer.\n"
   ]
  },
  {
   "cell_type": "code",
   "execution_count": null,
   "metadata": {},
   "outputs": [],
   "source": [
    "try:\n",
    "    # Prompt user for input\n",
    "    user_input = input(\"Enter a number: \")\n",
    "\n",
    "    # Attempt to convert the input to an integer\n",
    "    number = int(user_input)\n",
    "\n",
    "    # If successful, print the result\n",
    "    print(\"Successfully converted to an integer:\", number)\n",
    "\n",
    "except ValueError as ve:\n",
    "    # Handle the ValueError if conversion fails\n",
    "    print(f\"Error: {ve}\")\n"
   ]
  },
  {
   "cell_type": "markdown",
   "metadata": {},
   "source": [
    "2.\tAsk the user for the numerator and denominator value; and perform division. If the user enters a number, the program will evaluate and produce the result.\n",
    "If the user enters a non-numeric value then, the try block will throw a ValueError exception, and we can catch that using a first catch block ‘except ValueError’ by printing the message ‘Entered value is wrong’.\n",
    "And suppose the user enters the denominator as zero. In that case, the try block will throw a ZeroDivisionError, and we can catch that using a second catch block by printing the message ‘Can’t divide by zero’.\n"
   ]
  },
  {
   "cell_type": "code",
   "execution_count": null,
   "metadata": {},
   "outputs": [],
   "source": [
    "try:\n",
    "    # Get user input for numerator and denominator\n",
    "    numerator = int(input(\"Enter the numerator: \"))\n",
    "    denominator = int(input(\"Enter the denominator: \"))\n",
    "\n",
    "    # Perform division\n",
    "    result = numerator / denominator\n",
    "\n",
    "    # Display the result if successful\n",
    "    print(\"Result of division:\", result)\n",
    "\n",
    "except ValueError:\n",
    "    # Handle ValueError if the user enters a non-numeric value\n",
    "    print(\"Entered value is wrong. Please enter numeric values.\")\n",
    "\n",
    "except ZeroDivisionError:\n",
    "    # Handle ZeroDivisionError if the user enters a denominator of zero\n",
    "    print(\"Can't divide by zero. Please enter a non-zero denominator.\")\n"
   ]
  },
  {
   "cell_type": "markdown",
   "metadata": {},
   "source": [
    "3.\tAsk the user to enter an amount of money. In the try block, run a condition to check if the input value is less than 10 thousand; in which case raise a ValueError and \tprint your message inside it. In the except block, catch the ValueError we previously raised and print the message inside it."
   ]
  },
  {
   "cell_type": "code",
   "execution_count": null,
   "metadata": {},
   "outputs": [],
   "source": [
    "try:\n",
    "    # Get user input for the amount of money\n",
    "    amount = float(input(\"Enter an amount of money: \"))\n",
    "\n",
    "    # Check if the amount is less than 10,000\n",
    "    if amount < 10000:\n",
    "        # Raise a ValueError with a custom message\n",
    "        raise ValueError(\"Amount must be at least 10,000.\")\n",
    "\n",
    "    # If the amount is valid, print a success message\n",
    "    print(\"Amount entered:\", amount)\n",
    "\n",
    "except ValueError as ve:\n",
    "    # Handle the ValueError with the custom message\n",
    "    print(f\"Error: {ve}\")\n"
   ]
  },
  {
   "cell_type": "markdown",
   "metadata": {},
   "source": [
    "4.\tAn EOFError is raised when built-in functions like input() hits an end-of-file condition (EOF) without reading any data. The file methods like readline() return an empty string when they hit EOF. Show an example."
   ]
  },
  {
   "cell_type": "code",
   "execution_count": 2,
   "metadata": {},
   "outputs": [],
   "source": [
    "try:\n",
    "    \n",
    "    user_input = input(\"Enter something: \")\n",
    "\n",
    "except EOFError:\n",
    "    print(\"EOFError: End-of-file condition encountered.\")\n",
    "\n"
   ]
  },
  {
   "cell_type": "markdown",
   "metadata": {},
   "source": []
  }
 ],
 "metadata": {
  "kernelspec": {
   "display_name": "Python 3",
   "language": "python",
   "name": "python3"
  },
  "language_info": {
   "codemirror_mode": {
    "name": "ipython",
    "version": 3
   },
   "file_extension": ".py",
   "mimetype": "text/x-python",
   "name": "python",
   "nbconvert_exporter": "python",
   "pygments_lexer": "ipython3",
   "version": "3.12.0"
  }
 },
 "nbformat": 4,
 "nbformat_minor": 2
}
