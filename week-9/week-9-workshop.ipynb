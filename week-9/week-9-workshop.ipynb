{
 "cells": [
  {
   "cell_type": "markdown",
   "metadata": {},
   "source": [
    "1.\tWrite a Python program that prompts the user to enter two integers and then divides the first integer by the second integer. Handle any exceptions that may occur during the division operation."
   ]
  },
  {
   "cell_type": "code",
   "execution_count": 5,
   "metadata": {},
   "outputs": [
    {
     "name": "stdout",
     "output_type": "stream",
     "text": [
      "Cannot divide by zero\n",
      "None\n"
     ]
    }
   ],
   "source": [
    "\n",
    "def divide_numbers(first,second):\n",
    "    try:\n",
    "        return num1/num2\n",
    "    except ZeroDivisionError:\n",
    "        print(\"Cannot divide by zero\")\n",
    "        \n",
    "num1 = int(input(\"Enter a number\"))\n",
    "num2 = int(input(\"Enter another number\"))\n",
    "\n",
    "print(divide_numbers(num1,num2))"
   ]
  },
  {
   "cell_type": "markdown",
   "metadata": {},
   "source": [
    "2.\tWrite a Python program that reads a file name from the user and attempts to open the file. Handle any exceptions that may occur if the file does not exist or if there is an error reading the file."
   ]
  },
  {
   "cell_type": "code",
   "execution_count": 7,
   "metadata": {},
   "outputs": [
    {
     "name": "stdout",
     "output_type": "stream",
     "text": [
      "File not found\n"
     ]
    }
   ],
   "source": [
    "import os\n",
    "\n",
    "def check_file_name(fileName):\n",
    "    try:\n",
    "        with open(fileName,'r') as file:\n",
    "            data = file.readline()\n",
    "            return data\n",
    "    except FileNotFoundError:\n",
    "        return \"File not found\"\n",
    "\n",
    "filePath = input(\"Enter file name: \")\n",
    "\n",
    "print(check_file_name(filePath))"
   ]
  },
  {
   "cell_type": "markdown",
   "metadata": {},
   "source": [
    "3.\tWrite a Python program that prompts the user to enter a list of numbers and calculates the average of those numbers. Handle any exceptions that may occur if the user enters non-numeric values."
   ]
  },
  {
   "cell_type": "code",
   "execution_count": 10,
   "metadata": {},
   "outputs": [
    {
     "name": "stdout",
     "output_type": "stream",
     "text": [
      "Error: unsupported operand type(s) for +: 'int' and 'str'\n"
     ]
    }
   ],
   "source": [
    "def getUserList():\n",
    "    while True:\n",
    "        try:\n",
    "            userList = input(\"Enter a list of numbers seperated by space\")\n",
    "            numbers = [float(num) for num in userList.split()]\n",
    "            return numbers\n",
    "        except ValueError:\n",
    "            return(\"Enter a proper value\")\n",
    "\n",
    "def calculate_average(numbers):\n",
    "    try:\n",
    "        total = sum(numbers)\n",
    "        average = total / len(numbers)\n",
    "        return average\n",
    "    except ZeroDivisionError:\n",
    "        return \"Cannot calculate average of an empty list.\"\n",
    "    except Exception as e:\n",
    "        return f\"Error: {e}\"\n",
    "\n",
    "\n",
    "userList = getUserList()\n",
    "average = calculate_average(userList)\n",
    "\n",
    "print(average)\n",
    "\n"
   ]
  },
  {
   "cell_type": "markdown",
   "metadata": {},
   "source": [
    "4.\tWrite a Python program that generates a random number between 1 and 10 and prompts the user to guess the number. Handle any exceptions that may occur if the user enters non-numeric values or if the guess is out of range."
   ]
  },
  {
   "cell_type": "code",
   "execution_count": null,
   "metadata": {},
   "outputs": [],
   "source": [
    "import random\n",
    "\n",
    "def guess_the_number():\n",
    "    # Generate a random number between 1 and 10\n",
    "    target_number = random.randint(1, 10)\n",
    "\n",
    "    while True:\n",
    "        try:\n",
    "            # Get user input for the guess\n",
    "            user_guess = int(input(\"Guess the number between 1 and 10: \"))\n",
    "\n",
    "            # Check if the guess is in the valid range\n",
    "            if 1 <= user_guess <= 10:\n",
    "                # Check if the guess is correct\n",
    "                if user_guess == target_number:\n",
    "                    print(\"Congratulations! You guessed the correct number.\")\n",
    "                    break\n",
    "                else:\n",
    "                    print(\"Incorrect. Try again!\")\n",
    "            else:\n",
    "                print(\"Please enter a number between 1 and 10.\")\n",
    "\n",
    "        except ValueError:\n",
    "            print(\"Invalid input. Please enter a numeric value.\")\n",
    "\n",
    "guess_the_number()"
   ]
  },
  {
   "cell_type": "markdown",
   "metadata": {},
   "source": [
    "5.\tWrite a Python program that prompts the user to enter a list of integers and then calculates the sum of those integers. Handle any exceptions that may occur if the user enters non-numeric values."
   ]
  },
  {
   "cell_type": "code",
   "execution_count": 11,
   "metadata": {},
   "outputs": [
    {
     "name": "stdout",
     "output_type": "stream",
     "text": [
      "Error: unsupported operand type(s) for +: 'int' and 'str'\n"
     ]
    }
   ],
   "source": [
    "def getUserList():\n",
    "    while True:\n",
    "        try:\n",
    "            userList = input(\"Enter a list of numbers seperated by space\")\n",
    "            numbers = [float(num) for num in userList.split()]\n",
    "            return numbers\n",
    "        except ValueError:\n",
    "            return(\"Enter a proper value\")\n",
    "\n",
    "def calculate_sum(numbers):\n",
    "    try:\n",
    "        total = sum(numbers)\n",
    "        return total\n",
    "    except Exception as e:\n",
    "        return f\"Error: {e}\"\n",
    "\n",
    "\n",
    "userList = getUserList()\n",
    "average = calculate_sum(userList)\n",
    "\n",
    "print(average)\n",
    "\n"
   ]
  },
  {
   "cell_type": "markdown",
   "metadata": {},
   "source": [
    "6.\tUsing try…except, showcase the ZeroDivisionError."
   ]
  },
  {
   "cell_type": "code",
   "execution_count": null,
   "metadata": {},
   "outputs": [],
   "source": [
    "try:\n",
    "    numerator = 10\n",
    "    denominator = 0\n",
    "    \n",
    "    # Attempting to divide by zero\n",
    "    result = numerator / denominator\n",
    "    \n",
    "    # The above line will not be executed if the ZeroDivisionError occurs\n",
    "    \n",
    "    print(\"Result:\", result)\n",
    "\n",
    "except ZeroDivisionError as e:\n",
    "    print(f\"ZeroDivisionError: {e}\")\n",
    "except Exception as ex:\n",
    "    print(f\"An unexpected error occurred: {ex}\")\n"
   ]
  },
  {
   "cell_type": "markdown",
   "metadata": {},
   "source": [
    "7. Create a simple list containing five elements and try to print the sixth element of the list. [use IndexError exception]"
   ]
  },
  {
   "cell_type": "code",
   "execution_count": null,
   "metadata": {},
   "outputs": [],
   "source": [
    "try:\n",
    "    my_list = [1, 2, 3, 4, 5]\n",
    "    \n",
    "    # Attempting to access the sixth element, which does not exist\n",
    "    sixth_element = my_list[5]\n",
    "    \n",
    "    # The above line will not be executed if the IndexError occurs\n",
    "    \n",
    "    print(\"The sixth element is:\", sixth_element)\n",
    "\n",
    "except IndexError as e:\n",
    "    print(f\"IndexError: {e}\")\n",
    "except Exception as ex:\n",
    "    print(f\"An unexpected error occurred: {ex}\")\n"
   ]
  },
  {
   "cell_type": "markdown",
   "metadata": {},
   "source": [
    "8.\tTry printing a variable without declaring it. [use NameError exception]"
   ]
  },
  {
   "cell_type": "code",
   "execution_count": 12,
   "metadata": {},
   "outputs": [
    {
     "name": "stdout",
     "output_type": "stream",
     "text": [
      "Error: name 'apple' is not defined\n"
     ]
    }
   ],
   "source": [
    "try:\n",
    "    print(apple)\n",
    "except NameError as e:\n",
    "    print(\"Error:\",e)"
   ]
  },
  {
   "cell_type": "markdown",
   "metadata": {},
   "source": [
    "9.\tThe ‘else’ in try…except…else statements is used to run the code on the else block if there are no exceptions in the ‘except’ block. Show an example."
   ]
  },
  {
   "cell_type": "code",
   "execution_count": null,
   "metadata": {},
   "outputs": [],
   "source": [
    "apple = 'twentymilliondollars'\n",
    "try:\n",
    "    print(apple)\n",
    "except NameError:\n",
    "    print(\"Variable not defined\")\n",
    "else:\n",
    "    print(\"There is your data\")"
   ]
  },
  {
   "cell_type": "markdown",
   "metadata": {},
   "source": [
    "10.\tIn Python, we can choose to throw an exception if a condition occurs. To throw an exception, we use the ‘raise’ keyword. Show an example."
   ]
  },
  {
   "cell_type": "code",
   "execution_count": null,
   "metadata": {},
   "outputs": [],
   "source": [
    "def validate_positive_number(number):\n",
    "    if number <= 0:\n",
    "        # Raise a ValueError if the number is not positive\n",
    "        raise ValueError(\"Number must be a positive value.\")\n",
    "    else:\n",
    "        print(\"Valid number:\", number)\n",
    "\n",
    "# Example usage\n",
    "try:\n",
    "    user_input = int(input(\"Enter a positive number: \"))\n",
    "    validate_positive_number(user_input)\n",
    "\n",
    "except ValueError as ve:\n",
    "    print(f\"Error: {ve}\")\n"
   ]
  }
 ],
 "metadata": {
  "kernelspec": {
   "display_name": "Python 3",
   "language": "python",
   "name": "python3"
  },
  "language_info": {
   "codemirror_mode": {
    "name": "ipython",
    "version": 3
   },
   "file_extension": ".py",
   "mimetype": "text/x-python",
   "name": "python",
   "nbconvert_exporter": "python",
   "pygments_lexer": "ipython3",
   "version": "3.12.0"
  }
 },
 "nbformat": 4,
 "nbformat_minor": 2
}
