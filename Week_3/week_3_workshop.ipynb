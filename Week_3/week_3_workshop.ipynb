{
 "cells": [
  {
   "cell_type": "markdown",
   "metadata": {},
   "source": [
    "Part 2 \n",
    "Question 1\n",
    "Develop a program that asks the user for a number and then displays\n",
    "whether the number is positive or negative."
   ]
  },
  {
   "cell_type": "code",
   "execution_count": 1,
   "metadata": {},
   "outputs": [
    {
     "name": "stdout",
     "output_type": "stream",
     "text": [
      "It is a positive number\n"
     ]
    }
   ],
   "source": [
    "user_input = float(input(\"Enter a Number\"))\n",
    "if user_input < 0:\n",
    "    print(\"It is a negative number\")\n",
    "elif user_input == 0:\n",
    "    print(\"It is zero\")\n",
    "else:\n",
    "    print(\"It is a positive number\")"
   ]
  },
  {
   "cell_type": "markdown",
   "metadata": {},
   "source": [
    "Question 2\n",
    "Write a Python program that reads in two numbers and prints out whether\n",
    "their sum is even or odd."
   ]
  },
  {
   "cell_type": "code",
   "execution_count": 2,
   "metadata": {},
   "outputs": [
    {
     "name": "stdout",
     "output_type": "stream",
     "text": [
      "The sum is odd\n"
     ]
    }
   ],
   "source": [
    "num1 = int(input(\"Enter a number\"))\n",
    "num2 = int(input(\"Enter second number\"))\n",
    "if (num1+num2) % 2 == 0:\n",
    "    print(\"The sum is even\")\n",
    "else:\n",
    "    print(\"The sum is odd\")"
   ]
  },
  {
   "cell_type": "markdown",
   "metadata": {},
   "source": [
    "Write a program to find the lowest number out of two numbers expected\n",
    "from the user."
   ]
  },
  {
   "cell_type": "code",
   "execution_count": 3,
   "metadata": {},
   "outputs": [
    {
     "name": "stdout",
     "output_type": "stream",
     "text": [
      "54 is the lowest number\n"
     ]
    }
   ],
   "source": [
    "n1 = int(input(\"Enter first number\"))\n",
    "n2 = int(input(\"Enter Second number\"))\n",
    "if n1 > n2:\n",
    "    print(f\"{n2} is the lowest number\")\n",
    "else:\n",
    "    print(f\"{n1} is the lowest number\")"
   ]
  },
  {
   "cell_type": "markdown",
   "metadata": {},
   "source": [
    "Write a program to check whether a character is a vowel or consonant.\n",
    "[Expected from user’s input]."
   ]
  },
  {
   "cell_type": "code",
   "execution_count": 4,
   "metadata": {},
   "outputs": [
    {
     "name": "stdout",
     "output_type": "stream",
     "text": [
      "It is a vowel letter\n"
     ]
    }
   ],
   "source": [
    "alpha = input(\"Enter a character\")\n",
    "if alpha == 'a' or 'e' or 'i' or 'u' or 'o':\n",
    "    print(\"It is a vowel letter\")\n",
    "else:\n",
    "    print(\"It is a consonant letter\")"
   ]
  },
  {
   "cell_type": "markdown",
   "metadata": {},
   "source": [
    "Accept the age of 4 people and display the oldest one."
   ]
  },
  {
   "cell_type": "code",
   "execution_count": 8,
   "metadata": {},
   "outputs": [
    {
     "name": "stdout",
     "output_type": "stream",
     "text": [
      "9  is the oldest age and their name is ki\n",
      "5 is the youngest name and their name is ja\n"
     ]
    }
   ],
   "source": [
    "age = []\n",
    "name = []\n",
    "for i in range (0,4):\n",
    "    num=int(input(\"Enter age: \"))\n",
    "    user_name = input(\"Enter Name::\")\n",
    "    age.append(num)\n",
    "    name.append(user_name)\n",
    "age.sort\n",
    "print(f\"{age[3]}  is the oldest age and their name is {name[3]}\")\n",
    "name.sort\n",
    "print(f\"{age[0]} is the youngest name and their name is {name[0]}\")"
   ]
  },
  {
   "cell_type": "markdown",
   "metadata": {},
   "source": [
    "Write a Python program that prompts the user to enter their weight in\n",
    "kilograms and their height in centimeters. The program should then\n",
    "calculate the user&#39;s BMI (Body Mass Index) using the formula: BMI =\n",
    "weight / height^2. The resulting BMI value should be printed to the console\n",
    "along with a message indicating whether the user is underweight (BMI &lt;\n",
    "18.5), normal weight (18.5 &lt;= BMI &lt; 25), overweight (25 &lt;= BMI &lt; 30), or\n",
    "obese (BMI &gt;= 30)."
   ]
  },
  {
   "cell_type": "code",
   "execution_count": 9,
   "metadata": {},
   "outputs": [
    {
     "name": "stdout",
     "output_type": "stream",
     "text": [
      "Welcome to the body mass index (BMI) calculator\n",
      "--------------------------------------------------\n"
     ]
    }
   ],
   "source": [
    "print(\"Welcome to the body mass index (BMI) calculator\")\n",
    "print(\"-\"*50)\n",
    "weight = int(input(\"Weight::\"))\n",
    "height = float(input(\"Height::\"))\n",
    "# BMI formula: weight / height^2\n",
    "bmi = weight / (height ** 2)\n",
    "print(\"\\nYour Body Mass Index is : {:.1f}\".format(bmi))\n",
    "if bmi < 18.5:\n",
    "    print(\"You are underweight.\")\n",
    "elif bmi <25 and bmi >= 18.5:\n",
    "    print(\"You have a normal weight.\")\n",
    "elif bmi<30 and bmi >= 25:\n",
    "    print(\"You are overweight\")\n",
    "else:\n",
    "    print(\"You are OBESE!!\")"
   ]
  },
  {
   "cell_type": "markdown",
   "metadata": {},
   "source": [
    "Write a Python program to sum two given integers. However, if the sum is\n",
    "between 15 and 20 it will return 20."
   ]
  },
  {
   "cell_type": "code",
   "execution_count": null,
   "metadata": {},
   "outputs": [],
   "source": [
    "n1 = int(input(\"Enter first number\"))\n",
    "n2 = int(input(\"Enter Second number\"))\n",
    "sum = n1 + n2\n",
    "if sum <= 20 and sum >= 15:\n",
    "    print(20)\n",
    "else:\n",
    "    print(sum)"
   ]
  },
  {
   "cell_type": "markdown",
   "metadata": {},
   "source": [
    "Write a program that takes the name and age of the user as input and displays a message whether the user is eligible to apply for a driving license or not.  (The eligible age is 18 years).\n",
    "\n"
   ]
  },
  {
   "cell_type": "code",
   "execution_count": null,
   "metadata": {},
   "outputs": [],
   "source": [
    "age = int(input(\"Enter your age\"))\n",
    "if age<18:\n",
    "    print(\"You are not eligible for Driving\")\n",
    "else:\n",
    "    print(\"You are eligible for driving\")"
   ]
  },
  {
   "cell_type": "markdown",
   "metadata": {},
   "source": [
    "Accept the marked price from the user and calculate the Net amount as (Marked Price - Discount) to pay according to the following criteria."
   ]
  },
  {
   "cell_type": "code",
   "execution_count": null,
   "metadata": {},
   "outputs": [],
   "source": [
    "mp = int(input(\"Enter the Marked Price\"))\n",
    "if mp > 10000:\n",
    "    net_price = mp-mp*(20/100)\n",
    "elif mp>7000 and mp<= 10000:\n",
    "    net_price = mp-mp*(15/100)\n",
    "elif mp <=7000:\n",
    "    net_price = mp-mp*(10/100)\n",
    "\n",
    "\n",
    "print(f\"Price after discount is {net_price}\")\n"
   ]
  },
  {
   "cell_type": "markdown",
   "metadata": {},
   "source": [
    "Accept the age and gender, number of days and displays the wages accordingly:"
   ]
  },
  {
   "cell_type": "code",
   "execution_count": null,
   "metadata": {},
   "outputs": [],
   "source": [
    "age = int(input(\"Enter age: \"))\n",
    "gender = input(\"Enter gender (M/F): \")\n",
    "days_worked = int(input(\"Enter number of days worked: \"))\n",
    "\n",
    "if age >= 18 and age < 30:\n",
    "    if gender.lower() == \"m\":\n",
    "        wage = 700\n",
    "    elif gender.lower() == \"f\":\n",
    "        wage = 750\n",
    "    else:\n",
    "        print(\"Invalid gender input.\")\n",
    "\n",
    "if age >=30 and age <= 40:\n",
    "    if gender.lower() == \"m\":\n",
    "        wage = 800\n",
    "    elif gender.lower() == \"f\":\n",
    "        wage = 850\n",
    "    else:\n",
    "        print(\"Invalid gender input.\")\n",
    "    \n",
    "\n",
    "total_wages = wage * days_worked\n",
    "print(total_wages)"
   ]
  },
  {
   "cell_type": "markdown",
   "metadata": {},
   "source": [
    "Write a Python program in which:\n",
    "(a) The user enters either 'A', 'B', or 'C'. If 'A' is entered, the program should display the word 'Apple'; if 'B' is entered, it displays 'Banana'; and if 'C' is entered, it displays 'Coconut'. Use nested if statements for this."
   ]
  },
  {
   "cell_type": "code",
   "execution_count": null,
   "metadata": {},
   "outputs": [],
   "source": [
    "user_input = input(\"Enter A or B or C: \")\n",
    "\n",
    "if user_input == 'A' or 'B' or 'C':\n",
    "    if user_input == 'A':\n",
    "        print(\"Apple\")\n",
    "    elif user_input == 'B':\n",
    "        print('Banana')\n",
    "    elif user_input == 'C':\n",
    "        print('Coconut')"
   ]
  },
  {
   "cell_type": "markdown",
   "metadata": {},
   "source": [
    "(b) A student enters the number of college credits earned. If the number of credits is greater than or equal to 90, 'Senior Status' is displayed; if greater than or equal to 60, 'Junior Status' is displayed; if greater than or equal to 30, 'Sophomore Status' is displayed; else, 'Freshman Status' is displayed.\n"
   ]
  },
  {
   "cell_type": "code",
   "execution_count": null,
   "metadata": {},
   "outputs": [],
   "source": [
    "# Get the number of college credits earned from the user\n",
    "credits_earned = int(input(\"Enter the number of college credits earned: \"))\n",
    "\n",
    "# Determine the student's status\n",
    "if credits_earned >= 90:\n",
    "    print(\"Senior Status\")\n",
    "elif credits_earned >= 60:\n",
    "    print(\"Junior Status\")\n",
    "elif credits_earned >= 30:\n",
    "    print(\"Sophomore Status\")\n",
    "else:\n",
    "    print(\"Freshman Status\")\n"
   ]
  },
  {
   "cell_type": "markdown",
   "metadata": {},
   "source": [
    "\n",
    "(c) The user enters a number. If the number is divisible by 3, the word ‘Fizz’ should be displayed; if the number is divisible by 5 the word ‘Buzz’ should be displayed and if the number is divisible by both ‘FizzBuzz’ should be displayed.\n",
    "\n"
   ]
  },
  {
   "cell_type": "code",
   "execution_count": null,
   "metadata": {},
   "outputs": [],
   "source": [
    "FB = int(input(\"Enter a number\"))\n",
    "\n",
    "if FB % 3 == 0:\n",
    "    print(\"FIZZ\")\n",
    "elif FB % 5 == 0:\n",
    "    print(\"BUZZ\")\n",
    "elif FB % 3 == 0 and FB % 5 == 0:\n",
    "    print(\"FizzBuzz\")"
   ]
  },
  {
   "cell_type": "markdown",
   "metadata": {},
   "source": [
    "Accept the electric units from the user and calculate the bill according to the following rates. \n",
    "First 100 Units: Free\n",
    "Next 200 Units: Rs. 2 per day.\n",
    "Above 300 Units: Rs. 5 per day.\n",
    "If number of unit is 500 then total bill = 0 + 400 + 1000 = 1400 \n"
   ]
  },
  {
   "cell_type": "code",
   "execution_count": null,
   "metadata": {},
   "outputs": [],
   "source": [
    "\n",
    "electric_units = int(input(\"Enter the number of electric units: \"))\n",
    "\n",
    "free_units = 100\n",
    "rate_1 = 0  # Rate for the first 100 units (Free)\n",
    "rate_2 = 2  # Rate for the next 200 units\n",
    "rate_3 = 5  # Rate for units above 300\n",
    "\n",
    "if electric_units <= free_units:\n",
    "    total_bill = rate_1 * electric_units\n",
    "elif electric_units <= (free_units + 200):\n",
    "    total_bill = rate_1 * free_units + rate_2 * (electric_units - free_units)\n",
    "else:\n",
    "    total_bill = rate_1 * free_units + rate_2 * 200 + rate_3 * (electric_units - (free_units + 200))\n",
    "\n",
    "print(f\"Total bill for {electric_units} units: Rs. {total_bill}\")\n"
   ]
  },
  {
   "cell_type": "markdown",
   "metadata": {},
   "source": [
    "Write a program that takes n number as user input, which determines the size of the grid to be output e.g.\n",
    "User_input = 10\n"
   ]
  },
  {
   "cell_type": "code",
   "execution_count": null,
   "metadata": {},
   "outputs": [],
   "source": [
    "n = int(input('Enter a number: '))\n",
    "\n",
    "\n",
    "for i in range(n):\n",
    "    for j in range(n):\n",
    "        print(i*n+j+1, end=\"\\t\")\n",
    "    print()\n",
    "    \n",
    "    \n"
   ]
  }
 ],
 "metadata": {
  "kernelspec": {
   "display_name": "Python 3",
   "language": "python",
   "name": "python3"
  },
  "language_info": {
   "codemirror_mode": {
    "name": "ipython",
    "version": 3
   },
   "file_extension": ".py",
   "mimetype": "text/x-python",
   "name": "python",
   "nbconvert_exporter": "python",
   "pygments_lexer": "ipython3",
   "version": "3.12.0"
  }
 },
 "nbformat": 4,
 "nbformat_minor": 2
}
