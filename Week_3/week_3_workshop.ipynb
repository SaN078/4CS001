{
 "cells": [
  {
   "cell_type": "markdown",
   "metadata": {},
   "source": [
    "Part 2 \n",
    "Question 1\n",
    "Develop a program that asks the user for a number and then displays\n",
    "whether the number is positive or negative."
   ]
  },
  {
   "cell_type": "code",
   "execution_count": 1,
   "metadata": {},
   "outputs": [
    {
     "name": "stdout",
     "output_type": "stream",
     "text": [
      "It is a positive number\n"
     ]
    }
   ],
   "source": [
    "user_input = float(input(\"Enter a Number\"))\n",
    "if user_input < 0:\n",
    "    print(\"It is a negative number\")\n",
    "elif user_input == 0:\n",
    "    print(\"It is zero\")\n",
    "else:\n",
    "    print(\"It is a positive number\")"
   ]
  },
  {
   "cell_type": "markdown",
   "metadata": {},
   "source": [
    "Question 2\n",
    "Write a Python program that reads in two numbers and prints out whether\n",
    "their sum is even or odd."
   ]
  },
  {
   "cell_type": "code",
   "execution_count": 2,
   "metadata": {},
   "outputs": [
    {
     "name": "stdout",
     "output_type": "stream",
     "text": [
      "The sum is odd\n"
     ]
    }
   ],
   "source": [
    "num1 = int(input(\"Enter a number\"))\n",
    "num2 = int(input(\"Enter second number\"))\n",
    "if (num1+num2) % 2 == 0:\n",
    "    print(\"The sum is even\")\n",
    "else:\n",
    "    print(\"The sum is odd\")"
   ]
  },
  {
   "cell_type": "markdown",
   "metadata": {},
   "source": [
    "Write a program to find the lowest number out of two numbers expected\n",
    "from the user."
   ]
  },
  {
   "cell_type": "code",
   "execution_count": 3,
   "metadata": {},
   "outputs": [
    {
     "name": "stdout",
     "output_type": "stream",
     "text": [
      "54 is the lowest number\n"
     ]
    }
   ],
   "source": [
    "n1 = int(input(\"Enter first number\"))\n",
    "n2 = int(input(\"Enter Second number\"))\n",
    "if n1 > n2:\n",
    "    print(f\"{n2} is the lowest number\")\n",
    "else:\n",
    "    print(f\"{n1} is the lowest number\")"
   ]
  },
  {
   "cell_type": "markdown",
   "metadata": {},
   "source": [
    "Write a program to check whether a character is a vowel or consonant.\n",
    "[Expected from user’s input]."
   ]
  },
  {
   "cell_type": "code",
   "execution_count": 4,
   "metadata": {},
   "outputs": [
    {
     "name": "stdout",
     "output_type": "stream",
     "text": [
      "It is a vowel letter\n"
     ]
    }
   ],
   "source": [
    "alpha = input(\"Enter a character\")\n",
    "if alpha == 'a' or 'e' or 'i' or 'u' or 'o':\n",
    "    print(\"It is a vowel letter\")\n",
    "else:\n",
    "    print(\"It is a consonant letter\")"
   ]
  },
  {
   "cell_type": "markdown",
   "metadata": {},
   "source": [
    "Accept the age of 4 people and display the oldest one."
   ]
  },
  {
   "cell_type": "code",
   "execution_count": 5,
   "metadata": {},
   "outputs": [
    {
     "name": "stdout",
     "output_type": "stream",
     "text": [
      "50 is the oldest age\n"
     ]
    }
   ],
   "source": [
    "age = []\n",
    "for i in range (0,4):\n",
    "    num=int(input(\"Enter age: \"))\n",
    "    age.append(num)\n",
    "age.sort\n",
    "print(f\"{age[3]} is the oldest age\")"
   ]
  },
  {
   "cell_type": "markdown",
   "metadata": {},
   "source": [
    "Write a Python program that prompts the user to enter their weight in\n",
    "kilograms and their height in centimeters. The program should then\n",
    "calculate the user&#39;s BMI (Body Mass Index) using the formula: BMI =\n",
    "weight / height^2. The resulting BMI value should be printed to the console\n",
    "along with a message indicating whether the user is underweight (BMI &lt;\n",
    "18.5), normal weight (18.5 &lt;= BMI &lt; 25), overweight (25 &lt;= BMI &lt; 30), or\n",
    "obese (BMI &gt;= 30)."
   ]
  },
  {
   "cell_type": "code",
   "execution_count": 7,
   "metadata": {},
   "outputs": [
    {
     "name": "stdout",
     "output_type": "stream",
     "text": [
      "Welcome to the body mass index (BMI) calculator\n",
      "--------------------------------------------------\n",
      "\n",
      "Your Body Mass Index is : 0.0\n",
      "You are underweight.\n"
     ]
    }
   ],
   "source": [
    "print(\"Welcome to the body mass index (BMI) calculator\")\n",
    "print(\"-\"*50)\n",
    "weight = int(input(\"Weight::\"))\n",
    "height = float(input(\"Height::\"))\n",
    "# BMI formula: weight / height^2\n",
    "bmi = weight / (height ** 2)\n",
    "print(\"\\nYour Body Mass Index is : {:.1f}\".format(bmi))\n",
    "if bmi < 18.5:\n",
    "    print(\"You are underweight.\")\n",
    "elif bmi <25 and bmi >= 18.5:\n",
    "    print(\"You have a normal weight.\")\n",
    "elif bmi<30 and bmi >= 25:\n",
    "    print(\"You are overweight\")\n",
    "else:\n",
    "    print(\"You are OBESE!!\")"
   ]
  }
 ],
 "metadata": {
  "kernelspec": {
   "display_name": "Python 3",
   "language": "python",
   "name": "python3"
  },
  "language_info": {
   "codemirror_mode": {
    "name": "ipython",
    "version": 3
   },
   "file_extension": ".py",
   "mimetype": "text/x-python",
   "name": "python",
   "nbconvert_exporter": "python",
   "pygments_lexer": "ipython3",
   "version": "3.12.0"
  }
 },
 "nbformat": 4,
 "nbformat_minor": 2
}
