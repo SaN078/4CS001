{
 "cells": [
  {
   "cell_type": "markdown",
   "metadata": {},
   "source": [
    "1.\tWrite both an iterative and recursive function called is_even() that determines if a given number is even or not."
   ]
  },
  {
   "cell_type": "code",
   "execution_count": null,
   "metadata": {},
   "outputs": [],
   "source": [
    "def is_even_iterative(number):\n",
    "    return number % 2 == 0\n",
    "def is_even_recursive(number):\n",
    "    # Base case: if number is 0, it's even; if 1, it's odd\n",
    "    if number == 0:\n",
    "        return True\n",
    "    elif number == 1:\n",
    "        return False\n",
    "    # Recursive case: subtract 2 until reaching the base cases\n",
    "    else:\n",
    "        return is_even_recursive(number - 2)\n",
    "# Using iterative function\n",
    "result_iterative = is_even_iterative(4)\n",
    "print(f\"Is 4 even? {result_iterative}\")  # Output: True\n",
    "\n",
    "# Using recursive function\n",
    "result_recursive = is_even_recursive(5)\n",
    "print(f\"Is 5 even? {result_recursive}\")  # Output: False\n"
   ]
  },
  {
   "cell_type": "markdown",
   "metadata": {},
   "source": [
    "2.\tWrite both an iterative and recursive function called letter_frequency()  that determines how many times a given letter occurs in a provided string."
   ]
  },
  {
   "cell_type": "code",
   "execution_count": null,
   "metadata": {},
   "outputs": [],
   "source": [
    "def letter_frequency_iterative(string, letter):\n",
    "    count = 0\n",
    "    for char in string:\n",
    "        if char == letter:\n",
    "            count += 1\n",
    "    return count\n",
    "def letter_frequency_recursive(string, letter):\n",
    "    # Base case: if the string is empty, frequency is 0\n",
    "    if not string:\n",
    "        return 0\n",
    "    # Recursive case: add 1 if the first character matches the letter\n",
    "    else:\n",
    "        return (string[0] == letter) + letter_frequency_recursive(string[1:], letter)\n",
    "# Using iterative function\n",
    "result_iterative = letter_frequency_iterative(\"hello\", \"l\")\n",
    "print(f\"The letter 'l' occurs {result_iterative} times.\")  # Output: The letter 'l' occurs 2 times.\n",
    "\n",
    "# Using recursive function\n",
    "result_recursive = letter_frequency_recursive(\"hello\", \"o\")\n",
    "print(f\"The letter 'o' occurs {result_recursive} times.\")  # Output: The letter 'o' occurs 1 times.\n"
   ]
  },
  {
   "cell_type": "markdown",
   "metadata": {},
   "source": [
    "3.\tWrite both an iterative and recursive function called reverse()  that displays a provided string backwards."
   ]
  },
  {
   "cell_type": "code",
   "execution_count": null,
   "metadata": {},
   "outputs": [],
   "source": [
    "def reverse_iterative(string):\n",
    "    reversed_string = \"\"\n",
    "    for char in string:\n",
    "        reversed_string = char + reversed_string\n",
    "    return reversed_string\n",
    "def reverse_recursive(string):\n",
    "    # Base case: if the string is empty, return an empty string\n",
    "    if not string:\n",
    "        return \"\"\n",
    "    # Recursive case: reverse the rest of the string and append the first character\n",
    "    else:\n",
    "        return string[-1] + reverse_recursive(string[:-1])\n",
    "# Using iterative function\n",
    "result_iterative = reverse_iterative(\"hello\")\n",
    "print(f\"The reverse of 'hello' is: {result_iterative}\")  # Output: The reverse of 'hello' is: olleh\n",
    "\n",
    "# Using recursive function\n",
    "result_recursive = reverse_recursive(\"world\")\n",
    "print(f\"The reverse of 'world' is: {result_recursive}\")  # Output: The reverse of 'world' is: dlrow\n"
   ]
  },
  {
   "cell_type": "markdown",
   "metadata": {},
   "source": [
    "4.\tWrite both an iterative and recursive function called is_prime() that determines if a given number is a prime number or not."
   ]
  },
  {
   "cell_type": "code",
   "execution_count": null,
   "metadata": {},
   "outputs": [],
   "source": [
    "def is_prime_iterative(number):\n",
    "    if number < 2:\n",
    "        return False\n",
    "    for i in range(2, int(number**0.5) + 1):\n",
    "        if number % i == 0:\n",
    "            return False\n",
    "    return True\n",
    "def is_prime_recursive(number, divisor=2):\n",
    "    if number < 2:\n",
    "        return False\n",
    "    if divisor > int(number**0.5):\n",
    "        return True\n",
    "    if number % divisor == 0:\n",
    "        return False\n",
    "    return is_prime_recursive(number, divisor + 1)\n",
    "# Using iterative function\n",
    "result_iterative = is_prime_iterative(7)\n",
    "print(f\"Is 7 a prime number? {result_iterative}\")  # Output: Is 7 a prime number? True\n",
    "\n",
    "# Using recursive function\n",
    "result_recursive = is_prime_recursive(10)\n",
    "print(f\"Is 10 a prime number? {result_recursive}\")  # Output: Is 10 a prime number? False\n"
   ]
  },
  {
   "cell_type": "markdown",
   "metadata": {},
   "source": [
    "5.\tWrite both an iterative and recursive function called binary() that converts decimal numbers to binary/base 2."
   ]
  },
  {
   "cell_type": "code",
   "execution_count": null,
   "metadata": {},
   "outputs": [],
   "source": [
    "def decimal_to_binary_iterative(decimal):\n",
    "    binary_result = \"\"\n",
    "    while decimal > 0:\n",
    "        remainder = decimal % 2\n",
    "        binary_result = str(remainder) + binary_result\n",
    "        decimal //= 2\n",
    "    if not binary_result:\n",
    "        binary_result = \"0\"\n",
    "    return binary_result\n",
    "def decimal_to_binary_recursive(decimal):\n",
    "    if decimal == 0:\n",
    "        return \"0\"\n",
    "    elif decimal == 1:\n",
    "        return \"1\"\n",
    "    else:\n",
    "        return decimal_to_binary_recursive(decimal // 2) + str(decimal % 2)\n",
    "# Using iterative function\n",
    "result_iterative = decimal_to_binary_iterative(10)\n",
    "print(f\"The binary representation of 10 is: {result_iterative}\")  # Output: The binary representation of 10 is: 1010\n",
    "\n",
    "# Using recursive function\n",
    "result_recursive = decimal_to_binary_recursive(15)\n",
    "print(f\"The binary representation of 15 is: {result_recursive}\")  # Output: The binary representation of 15 is: 1111\n"
   ]
  },
  {
   "cell_type": "markdown",
   "metadata": {},
   "source": [
    "6.\tWrite both an iterative and recursive function called fib() that calculates the Fibonacci number for any positive integer, defined as follows:\n",
    "fib(0) = 0,\n",
    "fib(1) = 1,\n",
    "fib(n) = fib(n-1) + fib(n-2)\n"
   ]
  },
  {
   "cell_type": "code",
   "execution_count": null,
   "metadata": {},
   "outputs": [],
   "source": [
    "def fib_iterative(n):\n",
    "    if n == 0:\n",
    "        return 0\n",
    "    elif n == 1:\n",
    "        return 1\n",
    "\n",
    "    fib_n_minus_2 = 0\n",
    "    fib_n_minus_1 = 1\n",
    "\n",
    "    for _ in range(2, n + 1):\n",
    "        fib_n = fib_n_minus_1 + fib_n_minus_2\n",
    "        fib_n_minus_2 = fib_n_minus_1\n",
    "        fib_n_minus_1 = fib_n\n",
    "\n",
    "    return fib_n\n",
    "def fib_recursive(n):\n",
    "    if n == 0:\n",
    "        return 0\n",
    "    elif n == 1:\n",
    "        return 1\n",
    "    else:\n",
    "        return fib_recursive(n - 1) + fib_recursive(n - 2)\n",
    "# Using iterative function\n",
    "result_iterative = fib_iterative(5)\n",
    "print(f\"The Fibonacci number at position 5 is: {result_iterative}\")  # Output: The Fibonacci number at position 5 is: 5\n",
    "\n",
    "# Using recursive function\n",
    "result_recursive = fib_recursive(7)\n",
    "print(f\"The Fibonacci number at position 7 is: {result_recursive}\")  # Output: The Fibonacci number at position 7 is: 13\n"
   ]
  },
  {
   "cell_type": "markdown",
   "metadata": {},
   "source": [
    "7.\tWrite both an iterative and recursive function called sumlist() to calculate the sum of a list of numbers.\n",
    "\n"
   ]
  },
  {
   "cell_type": "code",
   "execution_count": null,
   "metadata": {},
   "outputs": [],
   "source": [
    "def sumlist_iterative(numbers):\n",
    "    result = 0\n",
    "    for num in numbers:\n",
    "        result += num\n",
    "    return result\n",
    "def sumlist_recursive(numbers):\n",
    "    if not numbers:\n",
    "        return 0\n",
    "    else:\n",
    "        return numbers[0] + sumlist_recursive(numbers[1:])\n",
    "# Using iterative function\n",
    "result_iterative = sumlist_iterative([1, 2, 3, 4, 5])\n",
    "print(f\"The sum of the list [1, 2, 3, 4, 5] is: {result_iterative}\")  # Output: The sum of the list [1, 2, 3, 4, 5] is: 15\n",
    "\n",
    "# Using recursive function\n",
    "result_recursive = sumlist_recursive([2, 4, 6, 8, 10])\n",
    "print(f\"The sum of the list [2, 4, 6, 8, 10] is: {result_recursive}\")  # Output: The sum of the list [2, 4, 6, 8, 10] is: 30\n"
   ]
  },
  {
   "cell_type": "markdown",
   "metadata": {},
   "source": [
    "8.\tWrite a recursive function called harmonic()  to calculate the harmonic sum of n-1.\n",
    "Note: The harmonic sum is the sum of reciprocals of the positive integers e.g.\n"
   ]
  },
  {
   "cell_type": "code",
   "execution_count": null,
   "metadata": {},
   "outputs": [],
   "source": [
    "def harmonic(n):\n",
    "    if n == 1:\n",
    "        return 1\n",
    "    else:\n",
    "        return 1/n + harmonic(n-1)\n",
    "\n",
    "# Example usage:\n",
    "n = 5\n",
    "result = harmonic(n-1)\n",
    "print(f\"The harmonic sum of {n-1} is: {result}\")\n"
   ]
  },
  {
   "cell_type": "markdown",
   "metadata": {},
   "source": [
    "9.\tWrite a recursive function power()to calculate the value of a to the power b"
   ]
  },
  {
   "cell_type": "code",
   "execution_count": null,
   "metadata": {},
   "outputs": [],
   "source": [
    "def power(a, b):\n",
    "    if b == 0:\n",
    "        return 1\n",
    "    else:\n",
    "        return a * power(a, b-1)\n",
    "\n",
    "# Example usage:\n",
    "base = 2\n",
    "exponent = 3\n",
    "result = power(base, exponent)\n",
    "print(f\"{base} to the power {exponent} is: {result}\")\n"
   ]
  },
  {
   "cell_type": "markdown",
   "metadata": {},
   "source": [
    "\n",
    "10.\tWrite a recursive function greatest_common_denominator() to find  the greatest common divisor (GCD) of two integers.\n"
   ]
  },
  {
   "cell_type": "code",
   "execution_count": null,
   "metadata": {},
   "outputs": [],
   "source": [
    "def greatest_common_denominator(a, b):\n",
    "    if b == 0:\n",
    "        return a\n",
    "    else:\n",
    "        return greatest_common_denominator(b, a % b)\n",
    "\n",
    "# Example usage:\n",
    "num1 = 36\n",
    "num2 = 48\n",
    "gcd_result = greatest_common_denominator(num1, num2)\n",
    "print(f\"The greatest common divisor of {num1} and {num2} is: {gcd_result}\")\n"
   ]
  },
  {
   "cell_type": "markdown",
   "metadata": {},
   "source": [
    "11.\tWrite both an iterative and recursive function that displays the rows of asterisks given below,\n",
    "************\n",
    " **********\n",
    "  ********\n",
    "   ******\n",
    "    ****\n",
    "     **\n"
   ]
  },
  {
   "cell_type": "code",
   "execution_count": 2,
   "metadata": {},
   "outputs": [
    {
     "name": "stdout",
     "output_type": "stream",
     "text": [
      "***********\n",
      "  *********\n",
      "    *******\n",
      "      *****\n",
      "        ***\n",
      "          *\n",
      "***********\n",
      "  *********\n",
      "    *******\n",
      "      *****\n",
      "        ***\n",
      "          *\n"
     ]
    }
   ],
   "source": [
    "def print_asterisks_iterative(rows):\n",
    "    for i in range(rows):\n",
    "        print(' ' * (2 * i) + '*' * (2 * (rows - i) - 1))\n",
    "\n",
    "# Example usage:\n",
    "print_asterisks_iterative(6)\n",
    "def print_asterisks_recursive(rows, current_row=0):\n",
    "    if current_row < rows:\n",
    "        print(' ' * (2 * current_row) + '*' * (2 * (rows - current_row) - 1))\n",
    "        print_asterisks_recursive(rows, current_row + 1)\n",
    "\n",
    "# Example usage:\n",
    "print_asterisks_recursive(6)\n"
   ]
  },
  {
   "cell_type": "markdown",
   "metadata": {},
   "source": [
    "12.\tWrite both an iterative and recursive function that displays the rows of asterisks given below,\n",
    "     **\n",
    "    ****\n",
    "   ******\n",
    "  **********\n",
    " ************\n",
    "**************\n"
   ]
  },
  {
   "cell_type": "code",
   "execution_count": 1,
   "metadata": {},
   "outputs": [
    {
     "name": "stdout",
     "output_type": "stream",
     "text": [
      "      **\n",
      "     ****\n",
      "    ******\n",
      "   ********\n",
      "  **********\n",
      " ************\n",
      "**************\n",
      "      **\n",
      "     ****\n",
      "    ******\n",
      "   ********\n",
      "  **********\n",
      " ************\n",
      "**************\n"
     ]
    }
   ],
   "source": [
    "def print_asterisks_iterative(rows):\n",
    "    for i in range(rows):\n",
    "        print(' ' * (rows - i - 1) + '*' * (2 * i + 2))\n",
    "\n",
    "# Example usage:\n",
    "print_asterisks_iterative(7)\n",
    "def print_asterisks_recursive(rows, current_row=0):\n",
    "    if current_row < rows:\n",
    "        print(' ' * (rows - current_row - 1) + '*' * (2 * current_row + 2))\n",
    "        print_asterisks_recursive(rows, current_row + 1)\n",
    "\n",
    "# Example usage:\n",
    "print_asterisks_recursive(7)\n"
   ]
  }
 ],
 "metadata": {
  "kernelspec": {
   "display_name": "Python 3",
   "language": "python",
   "name": "python3"
  },
  "language_info": {
   "codemirror_mode": {
    "name": "ipython",
    "version": 3
   },
   "file_extension": ".py",
   "mimetype": "text/x-python",
   "name": "python",
   "nbconvert_exporter": "python",
   "pygments_lexer": "ipython3",
   "version": "3.12.0"
  }
 },
 "nbformat": 4,
 "nbformat_minor": 2
}
