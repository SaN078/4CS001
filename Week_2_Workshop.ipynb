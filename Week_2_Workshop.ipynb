{
 "cells": [
  {
   "cell_type": "markdown",
   "metadata": {},
   "source": [
    "#Part 2#\n",
    "*Question 1*\n",
    "Write a python program to prompt the user for input number and print\n",
    "square of that particular integer."
   ]
  },
  {
   "cell_type": "code",
   "execution_count": null,
   "metadata": {},
   "outputs": [],
   "source": [
    "userInput = int(input(\"Enter a number \\n >\"))\n",
    "print(userInput**2)"
   ]
  },
  {
   "cell_type": "markdown",
   "metadata": {},
   "source": [
    "*Question 2*\n",
    "Write a python program to display the circumference of a circle. (import\n",
    "math module)"
   ]
  },
  {
   "cell_type": "code",
   "execution_count": null,
   "metadata": {},
   "outputs": [],
   "source": [
    "import math\n",
    "userInput = float(input(\"Enter the radius \\n >\"))\n",
    "print(f\"The circumference is\", {userInput*2*math.pi})"
   ]
  },
  {
   "cell_type": "markdown",
   "metadata": {},
   "source": [
    "*Question 3*\n",
    "Write a python program to ask in kilograms and convert into grams."
   ]
  },
  {
   "cell_type": "code",
   "execution_count": null,
   "metadata": {},
   "outputs": [],
   "source": [
    "userInput = int(input(\"Write the weight is KG\"))\n",
    "print(f\"The Converted value is\",{userInput*1000})"
   ]
  },
  {
   "cell_type": "markdown",
   "metadata": {},
   "source": [
    "*Question 4*\n",
    "Write a python program to display the area of the triangle."
   ]
  },
  {
   "cell_type": "code",
   "execution_count": null,
   "metadata": {},
   "outputs": [],
   "source": [
    "userInput_base = float(input(\"Enter the base of the triangle\"))\n",
    "userInput_height = float(input(\"Enter the height of the triangle\"))\n",
    "print(0.5*userInput_base*userInput_height)"
   ]
  },
  {
   "cell_type": "markdown",
   "metadata": {},
   "source": [
    "*Question 5*\n",
    " Write a python program to prompt user to input their name  and display\n",
    "“Hello &lt;&lt;NAME&gt;&gt;”"
   ]
  },
  {
   "cell_type": "code",
   "execution_count": null,
   "metadata": {},
   "outputs": [],
   "source": [
    "userName = input(\"Hey, What's your name?\")\n",
    "print (f\"Hello\", {userName})"
   ]
  },
  {
   "cell_type": "markdown",
   "metadata": {},
   "source": [
    "*Question 6*\n",
    "Write a python program to print this address as it is.\n",
    "Herald College Kathmandu,\n",
    "Naxal, PO:44600\n",
    "Kathmandu, Nepal"
   ]
  },
  {
   "cell_type": "code",
   "execution_count": null,
   "metadata": {},
   "outputs": [],
   "source": [
    "print(\"Herald College Kathmandu, \\n Naxal, PO:44600 \\n Kathmandu, Nepal\")"
   ]
  },
  {
   "cell_type": "markdown",
   "metadata": {},
   "source": [
    "#Part 3#\n",
    "*Question 1*\n",
    "Write a python program to find the remainder of a given number if\n",
    "divisor is 2."
   ]
  },
  {
   "cell_type": "code",
   "execution_count": null,
   "metadata": {},
   "outputs": [],
   "source": [
    "userInput = int(input(\"Enter a number\"))\n",
    "print(f\"The remainder when divided by 2 is\", {userInput%2})"
   ]
  },
  {
   "cell_type": "markdown",
   "metadata": {},
   "source": [
    "*Question 2*\n",
    "Demonstrate the use of ord() and chr() functions using a simple python\n",
    "program. [Take Data From User’s]"
   ]
  },
  {
   "cell_type": "code",
   "execution_count": null,
   "metadata": {},
   "outputs": [],
   "source": [
    "userInput = input(\"Enter a character\")\n",
    "print(f\"Its unicode is\", {ord(userInput)})\n",
    "userInput2 = input(\"Enter any unicode you know\")\n",
    "print(f\"It's corresponding character is\", {chr(userInput2)})"
   ]
  }
 ],
 "metadata": {
  "language_info": {
   "name": "python"
  }
 },
 "nbformat": 4,
 "nbformat_minor": 2
}
