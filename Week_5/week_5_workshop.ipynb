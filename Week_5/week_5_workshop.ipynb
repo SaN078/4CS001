{
 "cells": [
  {
   "cell_type": "code",
   "execution_count": 21,
   "metadata": {},
   "outputs": [
    {
     "name": "stdout",
     "output_type": "stream",
     "text": [
      "{'Sangeet': 'Porsche', 'Pushkar': 'BMW', 'Aashan': 'Honda Civic', 'Shreya': 'Maruti 800', 'Sadikshychyaa': 'Auto Rikshaw'}\n",
      "5\n",
      "dict_keys(['Sangeet', 'Pushkar', 'Aashan', 'Shreya', 'Sadikshychyaa'])\n",
      "dict_values(['Porsche', 'BMW', 'Honda Civic', 'Maruti 800', 'Auto Rikshaw'])\n",
      "dict_items([('Sangeet', 'Porsche'), ('Pushkar', 'BMW'), ('Aashan', 'Honda Civic'), ('Shreya', 'Maruti 800'), ('Sadikshychyaa', 'Auto Rikshaw')])\n",
      "Porsche\n"
     ]
    }
   ],
   "source": [
    "cars = {'Sangeet':'Porsche', 'Pushkar': 'BMW', 'Aashan': 'Honda Civic', 'Shreya':'Maruti 800','Sadikshychyaa':'Auto Rikshaw'}\n",
    "print(cars)\n",
    "\n",
    "print(len(cars))\n",
    "print(cars.keys())\n",
    "print(cars.values())\n",
    "print(cars.items())\n",
    "print(cars.get('Sangeet'))\n",
    "del cars\n"
   ]
  },
  {
   "cell_type": "code",
   "execution_count": 28,
   "metadata": {},
   "outputs": [
    {
     "name": "stdout",
     "output_type": "stream",
     "text": [
      "{1: 'one', 3: 'three', 5: 'five', 7: 'seven', 9: 'nine'}\n",
      "5\n",
      "dict_keys([1, 3, 5, 7, 9])\n",
      "dict_values(['one', 'three', 'five', 'seven', 'nine'])\n",
      "dict_items([(1, 'one'), (3, 'three'), (5, 'five'), (7, 'seven'), (9, 'nine')])\n",
      "nine\n",
      "True\n",
      "{1: 'one', 3: 'three', 5: 'five', 9: 'nine'}\n"
     ]
    }
   ],
   "source": [
    "ODD = {1:'one', 3:'three', 5:'five', 7:'seven', 9:'nine'}\n",
    "\n",
    "print(ODD)\n",
    "\n",
    "print(len(ODD))\n",
    "\n",
    "print(ODD.keys())\n",
    "\n",
    "print(ODD.values())\n",
    "\n",
    "print(ODD.items())\n",
    "\n",
    "print(ODD.get(9))\n",
    "\n",
    "print(7 in ODD)\n",
    "\n",
    "del ODD[7]\n",
    "\n",
    "print(ODD)"
   ]
  },
  {
   "cell_type": "code",
   "execution_count": 29,
   "metadata": {},
   "outputs": [],
   "source": [
    "positive = 0\n",
    "positive_list = []\n",
    "negative_list = []\n",
    "user_selection = input(\"Enter S to Start and Q to Quit\")\n",
    "user_number = int(input(\"Enter a number:\"))\n",
    "while user_selection.lower() != 'q':\n",
    "    \n",
    "    if (user_number > 0):\n",
    "        positive += 1\n",
    "        positive_list.append(user_number)\n",
    "    elif(user_number < 0):\n",
    "        negative_list.append(user_number)\n",
    "    else:\n",
    "        print (\"Invalid\")\n",
    "    \n",
    "    user_selection = input(\"Enter Q to Quit\")"
   ]
  },
  {
   "cell_type": "markdown",
   "metadata": {},
   "source": []
  },
  {
   "cell_type": "code",
   "execution_count": 31,
   "metadata": {},
   "outputs": [
    {
     "name": "stdout",
     "output_type": "stream",
     "text": [
      "Positive numbers: [52]\n",
      "Negative numbers: []\n",
      "Number of positive numbers: 1\n",
      "Number of negative numbers: 0\n"
     ]
    }
   ],
   "source": [
    "positive = 0\n",
    "negative = 0\n",
    "positive_list = []\n",
    "negative_list = []\n",
    "\n",
    "while True:\n",
    "    user_number = int(input(\"Enter a number: \"))\n",
    "\n",
    "    if user_number > 0:\n",
    "        positive += 1\n",
    "        positive_list.append(user_number)\n",
    "    elif user_number < 0:\n",
    "        negative += 1\n",
    "        negative_list.append(user_number)\n",
    "    else:\n",
    "        print(\"Invalid input. Please enter a non-zero number.\")\n",
    "\n",
    "    user_selection = input(\"Enter 'S' to continue or 'Q' to quit: \")\n",
    "\n",
    "    if user_selection.upper() == 'Q':\n",
    "        break\n",
    "\n",
    "print(f\"Positive numbers: {positive_list}\")\n",
    "print(f\"Negative numbers: {negative_list}\")\n",
    "print(f\"Number of positive numbers: {positive}\")\n",
    "print(f\"Number of negative numbers: {negative}\")\n"
   ]
  }
 ],
 "metadata": {
  "kernelspec": {
   "display_name": "Python 3",
   "language": "python",
   "name": "python3"
  },
  "language_info": {
   "codemirror_mode": {
    "name": "ipython",
    "version": 3
   },
   "file_extension": ".py",
   "mimetype": "text/x-python",
   "name": "python",
   "nbconvert_exporter": "python",
   "pygments_lexer": "ipython3",
   "version": "3.12.0"
  }
 },
 "nbformat": 4,
 "nbformat_minor": 2
}
