{
 "cells": [
  {
   "cell_type": "markdown",
   "metadata": {},
   "source": [
    "Write a Python program to create a list of integers and then append a new integer to the end of the list."
   ]
  },
  {
   "cell_type": "code",
   "execution_count": 1,
   "metadata": {},
   "outputs": [
    {
     "name": "stdout",
     "output_type": "stream",
     "text": [
      "[1, 2, 3, 4, 5, 6]\n"
     ]
    }
   ],
   "source": [
    "myList = [1,2,3,4,5]\n",
    "myList.append(6)\n",
    "print(myList)"
   ]
  },
  {
   "cell_type": "markdown",
   "metadata": {},
   "source": [
    "Write a Python program to create a nested list of strings and then print the first element of the second list."
   ]
  },
  {
   "cell_type": "code",
   "execution_count": 2,
   "metadata": {},
   "outputs": [
    {
     "name": "stdout",
     "output_type": "stream",
     "text": [
      "e\n"
     ]
    }
   ],
   "source": [
    "myList = ['a','b','c',['e','i','o','u']]\n",
    "print(myList[3][0])"
   ]
  },
  {
   "cell_type": "markdown",
   "metadata": {},
   "source": [
    "Write a Python program to create a tuple of integers and then print the length of the tuple"
   ]
  },
  {
   "cell_type": "code",
   "execution_count": 3,
   "metadata": {},
   "outputs": [
    {
     "name": "stdout",
     "output_type": "stream",
     "text": [
      "3\n"
     ]
    }
   ],
   "source": [
    "myTuple = (12.3,112,1221)\n",
    "print(len(myTuple))"
   ]
  },
  {
   "cell_type": "markdown",
   "metadata": {},
   "source": [
    "Write a Python program to create a set of integers and then add a new integer to the set."
   ]
  },
  {
   "cell_type": "code",
   "execution_count": 4,
   "metadata": {},
   "outputs": [
    {
     "name": "stdout",
     "output_type": "stream",
     "text": [
      "{1, 2, 3, 4, 5, 9}\n"
     ]
    }
   ],
   "source": [
    "mySet = {1,2,3,4,5}\n",
    "mySet.add(9)\n",
    "print(mySet)"
   ]
  },
  {
   "cell_type": "markdown",
   "metadata": {},
   "source": [
    "Write a Python program to create a dictionary of student names and their corresponding ages, and then print the age of a specific student."
   ]
  },
  {
   "cell_type": "code",
   "execution_count": 5,
   "metadata": {},
   "outputs": [
    {
     "name": "stdout",
     "output_type": "stream",
     "text": [
      "19\n"
     ]
    }
   ],
   "source": [
    "myDict = {\n",
    "    'Shreya' : 19,\n",
    "    'Khursit' : 22,\n",
    "    'Sangeet' : 19\n",
    "}\n",
    "\n",
    "print(myDict.get('Sangeet'))"
   ]
  },
  {
   "cell_type": "markdown",
   "metadata": {},
   "source": [
    "Write a Python program that prompts the user for a list of integers and stores them in a list. For all values that are greater than 100, the string 'over' should be stored instead."
   ]
  },
  {
   "cell_type": "code",
   "execution_count": 10,
   "metadata": {},
   "outputs": [
    {
     "name": "stdout",
     "output_type": "stream",
     "text": [
      "[50, 54, 'over']\n"
     ]
    }
   ],
   "source": [
    "limit = int(input('How many values should be added?::'))\n",
    "myList = []\n",
    "for i in range(limit):\n",
    "    user_input = int(input('Enter your number'))\n",
    "    if user_input < 100:\n",
    "        myList.append(user_input)\n",
    "    else:\n",
    "        myList.append('over')\n",
    "\n",
    "print(myList)"
   ]
  },
  {
   "cell_type": "markdown",
   "metadata": {},
   "source": [
    "Write a Python script to concatenate the following dictionaries to create a new one.\n",
    "\n",
    "Sample Dictionary:\n",
    "dict1={1:10, 2:20}\n",
    "dict2={3:30, 4:40}\n",
    "dict3={5:50, 6:60}\n",
    "Expected Result : {1: 10, 2: 20, 3: 30, 4: 40, 5: 50, 6: 60}\n"
   ]
  },
  {
   "cell_type": "code",
   "execution_count": 6,
   "metadata": {},
   "outputs": [
    {
     "name": "stdout",
     "output_type": "stream",
     "text": [
      "{1: 10, 2: 20, 3: 30, 4: 40, 5: 50, 6: 60}\n"
     ]
    }
   ],
   "source": [
    "dict1={1:10, 2:20}\n",
    "dict2={3:30, 4:40}\n",
    "dict3={5:50, 6:60}\n",
    "\n",
    "merged_dict = dict1.copy()\n",
    "merged_dict.update(dict2)\n",
    "merged_dict.update(dict3)\n",
    "\n",
    "print(merged_dict)"
   ]
  },
  {
   "cell_type": "markdown",
   "metadata": {},
   "source": [
    "Write a Python program to check if a specific key and a value exist in a dictionary. \n",
    "students=[\n",
    "{\"student_id\": 1, \"name\": \"Jean Castro\", \"class\": \"V\"},\n",
    "{'student_id': 2, 'name': 'Lula Powell', 'class': 'V'},\n",
    "{'student_id': 3, 'name': 'Brian Howell', 'class': 'VI'}, \n",
    "{'student_id': 4, 'name': 'Lynne Foster', 'class': 'VI'}, \n",
    "{'student_id': 5, 'name': 'Zachary Simon', 'class': 'VII'}\n",
    "]\n",
    "Your output should as follows:\n",
    "Key: 'name' and Value: 'Jean Castro' do exist\n",
    "Key: 'address' and Value: 'New York' do not exist\n"
   ]
  },
  {
   "cell_type": "code",
   "execution_count": 14,
   "metadata": {},
   "outputs": [
    {
     "name": "stdout",
     "output_type": "stream",
     "text": [
      "Key: 'aoa' and Value: 'faboa' do not exist\n"
     ]
    }
   ],
   "source": [
    "students = [\n",
    "    {\"student_id\": 1, \"name\": \"Jean Castro\", \"class\": \"V\"},\n",
    "    {'student_id': 2, 'name': 'Lula Powell', 'class': 'V'},\n",
    "    {'student_id': 3, 'name': 'Brian Howell', 'class': 'VI'},\n",
    "    {'student_id': 4, 'name': 'Lynne Foster', 'class': 'VI'},\n",
    "    {'student_id': 5, 'name': 'Zachary Simon', 'class': 'VII'}\n",
    "]\n",
    "\n",
    "key_to_check = input(\"What is the key? \")\n",
    "value_to_check = input(\"Value of the key: \")\n",
    "\n",
    "for student in students:\n",
    "    if key_to_check in student and student[key_to_check] == value_to_check:\n",
    "        print(f\"Key: '{key_to_check}' and Value: '{value_to_check}' do exist\")\n",
    "    else:\n",
    "        print(f\"Key: '{key_to_check}' and Value: '{value_to_check}' do not exist\")"
   ]
  },
  {
   "cell_type": "markdown",
   "metadata": {},
   "source": [
    "#**Part Three**#"
   ]
  },
  {
   "cell_type": "markdown",
   "metadata": {},
   "source": [
    "Write a Python program that takes in a list of strings and returns a new list with only the strings that contain the letter 'a'."
   ]
  },
  {
   "cell_type": "code",
   "execution_count": 16,
   "metadata": {},
   "outputs": [
    {
     "name": "stdout",
     "output_type": "stream",
     "text": [
      "This is your initial list ['apple', 'ba', '', 'll', 'la']\n",
      "This is your new list ['apple', 'ba', 'la']\n"
     ]
    }
   ],
   "source": [
    "initial_list = []\n",
    "newList = []\n",
    "\n",
    "limit = int(input(\"Enter your limit: \"))\n",
    "\n",
    "for i in range(limit):\n",
    "    new_input = input(\"Enter your word: \")\n",
    "    initial_list.append(new_input)\n",
    "\n",
    "print(f\"This is your initial list {initial_list}\")\n",
    "\n",
    "for i in range(len(initial_list)):\n",
    "    if 'a' in initial_list[i]:\n",
    "        newList.append(initial_list[i])\n",
    "\n",
    "print(f\"This is your new list {newList}\")"
   ]
  },
  {
   "cell_type": "markdown",
   "metadata": {},
   "source": [
    "Write a Python program that takes in two sets of integers and returns a new set with only the common elements in both sets."
   ]
  },
  {
   "cell_type": "code",
   "execution_count": null,
   "metadata": {},
   "outputs": [],
   "source": [
    "# Input sets from the user\n",
    "set1 = set(map(int, input(\"Enter elements for set1 separated by spaces: \").split()))\n",
    "set2 = set(map(int, input(\"Enter elements for set2 separated by spaces: \").split()))\n",
    "\n",
    "# Finding common elements\n",
    "common_elements = set1.intersection(set2)   \n",
    "\n",
    "# Displaying the result\n",
    "print(\"Common elements:\", common_elements)\n"
   ]
  },
  {
   "cell_type": "markdown",
   "metadata": {},
   "source": [
    "Write a Python program that takes in a list of dictionaries representing people with their\n",
    "age, and returns a new list of dictionaries with only the people over the age of 18."
   ]
  },
  {
   "cell_type": "code",
   "execution_count": null,
   "metadata": {},
   "outputs": [],
   "source": [
    "# Example list of people with their age\n",
    "people_data = [\n",
    "    {'name': 'Alice', 'age': 25},\n",
    "    {'name': 'Bob', 'age': 17},\n",
    "    {'name': 'Charlie', 'age': 30},\n",
    "    {'name': 'David', 'age': 16}\n",
    "]\n",
    "\n",
    "# Use list comprehension to filter people over 18\n",
    "filtered_people = [person for person in people_data if person.get('age', 0) > 18]\n",
    "\n",
    "# Print the result\n",
    "print(filtered_people)\n"
   ]
  },
  {
   "cell_type": "markdown",
   "metadata": {},
   "source": [
    "Write a program to input your friend’ names and their Phone Numbers and store them in\n",
    "the dictionary as the key-value pair. Perform the following operations on the dictionary:\n",
    "a)Display the name and phone number of all your friends\n",
    "b)Add a new k:v in this dictionary and display the modified dictionary\n",
    "c)Delete the particular friend from the dictionary\n",
    "d)Modify the phone number of an existing friend\n",
    "e)Check if a friend is present in the dictionary or not and display it in sorted form."
   ]
  },
  {
   "cell_type": "code",
   "execution_count": null,
   "metadata": {},
   "outputs": [],
   "source": [
    "# Initialize an empty dictionary to store friends' information\n",
    "friends_dict = {}\n",
    "\n",
    "# Input loop\n",
    "while True:\n",
    "    print(\"\\nMenu:\")\n",
    "    print(\"1. Display all friends and their phone numbers\")\n",
    "    print(\"2. Add a new friend and their phone number\")\n",
    "    print(\"3. Delete a friend from the dictionary\")\n",
    "    print(\"4. Modify the phone number of an existing friend\")\n",
    "    print(\"5. Check if a friend is present in the dictionary and display in sorted form\")\n",
    "    print(\"6. Exit\")\n",
    "\n",
    "    choice = input(\"Enter your choice (1-6): \")\n",
    "\n",
    "    if choice == '1':\n",
    "        # Display all friends and their phone numbers\n",
    "        print(\"\\nAll Friends and Phone Numbers:\")\n",
    "        for name, phone in friends_dict.items():\n",
    "            print(f\"{name}: {phone}\")\n",
    "\n",
    "    elif choice == '2':\n",
    "        # Add a new friend and their phone number\n",
    "        name = input(\"Enter friend's name: \")\n",
    "        phone = input(\"Enter friend's phone number: \")\n",
    "        friends_dict[name] = phone\n",
    "        print(f\"{name} added to the dictionary.\")\n",
    "\n",
    "    elif choice == '3':\n",
    "        # Delete a friend from the dictionary\n",
    "        name_to_delete = input(\"Enter the name of the friend to delete: \")\n",
    "        if name_to_delete in friends_dict:\n",
    "            del friends_dict[name_to_delete]\n",
    "            print(f\"{name_to_delete} deleted from the dictionary.\")\n",
    "        else:\n",
    "            print(f\"{name_to_delete} not found in the dictionary.\")\n",
    "\n",
    "    elif choice == '4':\n",
    "        # Modify the phone number of an existing friend\n",
    "        name_to_modify = input(\"Enter the name of the friend to modify: \")\n",
    "        if name_to_modify in friends_dict:\n",
    "            new_phone = input(\"Enter the new phone number: \")\n",
    "            friends_dict[name_to_modify] = new_phone\n",
    "            print(f\"Phone number for {name_to_modify} modified.\")\n",
    "        else:\n",
    "            print(f\"{name_to_modify} not found in the dictionary.\")\n",
    "\n",
    "    elif choice == '5':\n",
    "        # Check if a friend is present in the dictionary and display in sorted form\n",
    "        friend_to_check = input(\"Enter the name of the friend to check: \")\n",
    "        if friend_to_check in friends_dict:\n",
    "            print(f\"{friend_to_check} is present in the dictionary.\")\n",
    "        else:\n",
    "            print(f\"{friend_to_check} not found in the dictionary.\")\n",
    "\n",
    "        # Display friends in sorted order\n",
    "        print(\"Friends in Sorted Order:\")\n",
    "        for name in sorted(friends_dict):\n",
    "            print(f\"{name}: {friends_dict[name]}\")\n",
    "\n",
    "    elif choice == '6':\n",
    "        # Exit the program\n",
    "        print(\"Exiting the program.\")\n",
    "        break\n",
    "\n",
    "    else:\n",
    "        print(\"Invalid choice. Please enter a number between 1 and 6.\")\n"
   ]
  },
  {
   "cell_type": "markdown",
   "metadata": {},
   "source": [
    "Write a Python program to get the top three items in a shop.\n",
    "Sample data:\n",
    "{'item1': 45.50, 'item2':35, 'item3': 41.30, 'item4':55, 'item5': 24}\n",
    "Expected Output:\n",
    "item4: 55\n",
    "item1: 45.5\n",
    "Item3: 41.3"
   ]
  },
  {
   "cell_type": "code",
   "execution_count": null,
   "metadata": {},
   "outputs": [],
   "source": [
    "# Sample data representing items and their prices\n",
    "items_prices = {'item1': 45.50, 'item2': 35, 'item3': 41.30, 'item4': 55, 'item5': 24}\n",
    "\n",
    "# Get the top three items based on prices\n",
    "top_three_items = sorted(items_prices.items(), key=lambda x: x[1], reverse=True)[:3]\n",
    "\n",
    "# Display the expected output\n",
    "print(\"Expected Output:\")\n",
    "for item, price in top_three_items:\n",
    "    print(f\"{item}: {price}\")\n"
   ]
  },
  {
   "cell_type": "markdown",
   "metadata": {},
   "source": [
    "You are a teacher and you have a list of dictionaries containing information about your\n",
    "students. Each dictionary represents a single student and contains the following keys:\n",
    "\"name\", \"age\", \"gender\", and \"grades\". The \"grades\" key points to a list of grades the\n",
    "student has received in different subjects. Your task is to write a Python program that\n",
    "calculates the average grade for each student and prints out their name and average\n",
    "grade.\n",
    "Here's an example of list of dictionaries to get you started:\n",
    "students =\n",
    "\n",
    "[\n",
    "{\"name\": \"Alice\", \"age\": 17, \"gender\": \"female\", \"grades\": [90, 85, 95]},\n",
    "{\"name\": \"Bob\", \"age\": 16, \"gender\": \"male\", \"grades\": [80, 75, 70]},\n",
    "{\"name\": \"Charlie\", \"age\": 16, \"gender\": \"male\", \"grades\": [100, 90, 95]},\n",
    "{\"name\": \"Diana\", \"age\": 17, \"gender\": \"female\", \"grades\": [85, 80, 90]},\n",
    "{\"name\": \"Emily\", \"age\": 16, \"gender\": \"female\", \"grades\": [95, 90, 100]}\n",
    "]\n",
    "Your program should produce the following output:\n",
    "Alice: 90.0\n",
    "Bob: 75.0\n",
    "Charlie: 95.0\n",
    "Diana: 85.0\n",
    "Emily: 95.0\n",
    "Hint: You'll need to use nested loops to iterate over the list of dictionaries and the list of\n",
    "grades for each student. You can use the len() function to get the number of grades for\n",
    "each student."
   ]
  },
  {
   "cell_type": "code",
   "execution_count": null,
   "metadata": {},
   "outputs": [],
   "source": [
    "# List of dictionaries containing information about students\n",
    "students = [\n",
    "    {\"name\": \"Alice\", \"age\": 17, \"gender\": \"female\", \"grades\": [90, 85, 95]},\n",
    "    {\"name\": \"Bob\", \"age\": 16, \"gender\": \"male\", \"grades\": [80, 75, 70]},\n",
    "    {\"name\": \"Charlie\", \"age\": 16, \"gender\": \"male\", \"grades\": [100, 90, 95]},\n",
    "    {\"name\": \"Diana\", \"age\": 17, \"gender\": \"female\", \"grades\": [85, 80, 90]},\n",
    "    {\"name\": \"Emily\", \"age\": 16, \"gender\": \"female\", \"grades\": [95, 90, 100]}\n",
    "]\n",
    "\n",
    "# Calculate and print the average grade for each student\n",
    "for student in students:\n",
    "    name = student[\"name\"]\n",
    "    grades = student[\"grades\"]\n",
    "    average_grade = sum(grades) / len(grades)\n",
    "    print(f\"{name}: {average_grade:.1f}\")\n"
   ]
  },
  {
   "cell_type": "markdown",
   "metadata": {},
   "source": [
    "Write a Python program that takes in a list of tuples representing book titles and their\n",
    "corresponding authors, and returns a new list of tuples sorted by author name in\n",
    "alphabetical order."
   ]
  },
  {
   "cell_type": "code",
   "execution_count": 8,
   "metadata": {},
   "outputs": [
    {
     "name": "stdout",
     "output_type": "stream",
     "text": [
      "Sorted Books by Author Name:\n",
      "Diamond Shumsher Rana: Seto Bagh\n",
      "Jay Shetty: Think like a Monk\n",
      "Paulo Coelho: The Alchemist\n",
      "Paulo Coelho: Eleven Minutes\n",
      "Paulo Coelho: Hippi\n"
     ]
    }
   ],
   "source": [
    "# Sample list of tuples representing book titles and authors\n",
    "books = [\n",
    "    (\"The Alchemist\", \"Paulo Coelho\"),\n",
    "    (\"Think like a Monk\", \"Jay Shetty\"),\n",
    "    (\"Eleven Minutes\", \"Paulo Coelho\"),\n",
    "    (\"Hippi\", \"Paulo Coelho\"),\n",
    "    (\"Seto Bagh\", \"Diamond Shumsher Rana\")\n",
    "]\n",
    "\n",
    "# Sort the list of tuples by author name in alphabetical order\n",
    "sorted_books = sorted(books, key=lambda x: x[1])\n",
    "\n",
    "# Display the sorted list of tuples\n",
    "print(\"Sorted Books by Author Name:\")\n",
    "for title, author in sorted_books:\n",
    "    print(f\"{author}: {title}\")\n",
    "\n"
   ]
  },
  {
   "cell_type": "markdown",
   "metadata": {},
   "source": [
    "Write a Python program to compute the difference between two lists.\n",
    "Sample data:\n",
    "[\"red\", \"orange\", \"green\", \"blue\", \"white\"], [\"black\", \"yellow\", \"green\", \"blue\"]\n",
    "Expected Output:\n",
    "Color1-Color2: ['white', 'orange', 'red']\n",
    "Color2-Color1: ['black', 'yellow']"
   ]
  },
  {
   "cell_type": "code",
   "execution_count": 9,
   "metadata": {},
   "outputs": [
    {
     "name": "stdout",
     "output_type": "stream",
     "text": [
      "Color1-Color2: ['red', 'white', 'orange']\n",
      "Color2-Color1: ['yellow', 'black']\n"
     ]
    }
   ],
   "source": [
    "# Sample data - two lists of colors\n",
    "list1 = [\"red\", \"orange\", \"green\", \"blue\", \"white\"]\n",
    "list2 = [\"black\", \"yellow\", \"green\", \"blue\"]\n",
    "\n",
    "# Compute the difference between the two lists\n",
    "diff1 = list(set(list1) - set(list2))\n",
    "diff2 = list(set(list2) - set(list1))\n",
    "\n",
    "# Display the expected output\n",
    "print(\"Color1-Color2:\", diff1)\n",
    "print(\"Color2-Color1:\", diff2)\n"
   ]
  }
 ],
 "metadata": {
  "kernelspec": {
   "display_name": "Python 3",
   "language": "python",
   "name": "python3"
  },
  "language_info": {
   "codemirror_mode": {
    "name": "ipython",
    "version": 3
   },
   "file_extension": ".py",
   "mimetype": "text/x-python",
   "name": "python",
   "nbconvert_exporter": "python",
   "pygments_lexer": "ipython3",
   "version": "3.12.0"
  }
 },
 "nbformat": 4,
 "nbformat_minor": 2
}
