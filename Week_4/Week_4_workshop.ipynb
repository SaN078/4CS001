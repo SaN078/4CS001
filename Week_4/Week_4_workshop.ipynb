{
 "cells": [
  {
   "cell_type": "markdown",
   "metadata": {},
   "source": [
    "Write a program to print numbers from 1 to 10. \n"
   ]
  },
  {
   "cell_type": "code",
   "execution_count": 1,
   "metadata": {},
   "outputs": [
    {
     "name": "stdout",
     "output_type": "stream",
     "text": [
      "1\n",
      "2\n",
      "3\n",
      "4\n",
      "5\n",
      "6\n",
      "7\n",
      "8\n",
      "9\n",
      "10\n"
     ]
    }
   ],
   "source": [
    "for i in range(0,10):\n",
    "    print(i+1)"
   ]
  },
  {
   "cell_type": "markdown",
   "metadata": {},
   "source": [
    "Write a program to print all odd numbers between 1 and 15.\n"
   ]
  },
  {
   "cell_type": "code",
   "execution_count": 2,
   "metadata": {},
   "outputs": [
    {
     "name": "stdout",
     "output_type": "stream",
     "text": [
      "1\n",
      "3\n",
      "5\n",
      "7\n",
      "9\n",
      "11\n",
      "13\n"
     ]
    }
   ],
   "source": [
    "for i in range(15):\n",
    "    if i%2 == 1:\n",
    "        print (i)"
   ]
  },
  {
   "cell_type": "markdown",
   "metadata": {},
   "source": [
    " Write a program to calculate the sum of the first 10 natural numbers"
   ]
  },
  {
   "cell_type": "code",
   "execution_count": 3,
   "metadata": {},
   "outputs": [
    {
     "name": "stdout",
     "output_type": "stream",
     "text": [
      "55\n"
     ]
    }
   ],
   "source": [
    "sum = 0\n",
    "for i in range(10):\n",
    "    sum+=i+1\n",
    "print(sum)"
   ]
  },
  {
   "cell_type": "markdown",
   "metadata": {},
   "source": [
    "Write a program that prompts the user to input a positive integer. It should then print the multiplication table of that number up to 10."
   ]
  },
  {
   "cell_type": "code",
   "execution_count": 4,
   "metadata": {},
   "outputs": [
    {
     "name": "stdout",
     "output_type": "stream",
     "text": [
      "10 * 1 = 10\n",
      "10 * 2 = 20\n",
      "10 * 3 = 30\n",
      "10 * 4 = 40\n",
      "10 * 5 = 50\n",
      "10 * 6 = 60\n",
      "10 * 7 = 70\n",
      "10 * 8 = 80\n",
      "10 * 9 = 90\n",
      "10 * 10 = 100\n"
     ]
    }
   ],
   "source": [
    "user = int(input(\"Enter a number: \"))\n",
    "\n",
    "for i in range(10):\n",
    "    multiplication = user * (i+1)\n",
    "    print(f\"{user} * {i+1} = {multiplication}\")"
   ]
  },
  {
   "cell_type": "markdown",
   "metadata": {},
   "source": [
    " Write a program to find the factorial value of any number entered through the keyboard.  \n"
   ]
  },
  {
   "cell_type": "code",
   "execution_count": 5,
   "metadata": {},
   "outputs": [
    {
     "name": "stdout",
     "output_type": "stream",
     "text": [
      "40320\n"
     ]
    }
   ],
   "source": [
    "factorial_number = int(input(\"Enter a number: \"))\n",
    "fact = 1\n",
    "while factorial_number != 0:\n",
    "    fact = fact * factorial_number\n",
    "    factorial_number-=1\n",
    "\n",
    "print(fact)"
   ]
  },
  {
   "cell_type": "markdown",
   "metadata": {},
   "source": [
    " Write a program to enter the numbers till the user wants and at the end it should display the count of positive, negative and zeros entered.\n"
   ]
  },
  {
   "cell_type": "code",
   "execution_count": 6,
   "metadata": {},
   "outputs": [
    {
     "name": "stdout",
     "output_type": "stream",
     "text": [
      "Press Q to end the program\n",
      "Press Q to end the program\n",
      "Press Q to end the program\n",
      "Press Q to end the program\n",
      "Press Q to end the program\n",
      "You entered 2 positive numbers, 2 negative numbers and 1 zeross\n"
     ]
    }
   ],
   "source": [
    "positive_count = 0\n",
    "negative_count = 0\n",
    "zero_count = 0\n",
    "\n",
    "user_number = input(\"Enter a number: \")\n",
    "print(\"Press Q to end the program\")\n",
    "\n",
    "while user_number != 'q':\n",
    "    if int(user_number) > 0:\n",
    "        positive_count+=1\n",
    "    elif int(user_number) < 0:\n",
    "        negative_count+=1\n",
    "    else:\n",
    "        zero_count+=1\n",
    "    user_number = input(\"Enter a number: \")\n",
    "\n",
    "print(f\"You entered {positive_count} positive numbers, {negative_count} negative numbers and {zero_count} zeross\")"
   ]
  },
  {
   "cell_type": "markdown",
   "metadata": {},
   "source": [
    " Write a program to print Fibonacci series of n terms where n is input by user:  \n",
    "0 1 1 2 3 5 8 13 24 ....\n"
   ]
  },
  {
   "cell_type": "code",
   "execution_count": 8,
   "metadata": {},
   "outputs": [
    {
     "name": "stdout",
     "output_type": "stream",
     "text": [
      "0\n",
      "1\n",
      "1\n",
      "2\n",
      "3\n",
      "5\n",
      "8\n",
      "13\n",
      "21\n",
      "34\n",
      "55\n",
      "89\n",
      "144\n",
      "233\n",
      "377\n",
      "610\n",
      "987\n",
      "1597\n",
      "2584\n",
      "4181\n",
      "6765\n",
      "10946\n",
      "17711\n",
      "28657\n",
      "46368\n",
      "75025\n",
      "121393\n",
      "196418\n",
      "317811\n",
      "514229\n",
      "832040\n",
      "1346269\n",
      "2178309\n",
      "3524578\n",
      "5702887\n",
      "9227465\n",
      "14930352\n",
      "24157817\n",
      "39088169\n",
      "63245986\n",
      "102334155\n",
      "165580141\n",
      "267914296\n",
      "433494437\n",
      "701408733\n",
      "1134903170\n",
      "1836311903\n",
      "2971215073\n",
      "4807526976\n",
      "7778742049\n",
      "12586269025\n",
      "20365011074\n",
      "32951280099\n",
      "53316291173\n",
      "86267571272\n",
      "139583862445\n",
      "225851433717\n",
      "365435296162\n",
      "591286729879\n",
      "956722026041\n",
      "1548008755920\n",
      "2504730781961\n",
      "4052739537881\n",
      "6557470319842\n",
      "10610209857723\n",
      "17167680177565\n",
      "27777890035288\n",
      "44945570212853\n",
      "72723460248141\n",
      "117669030460994\n",
      "190392490709135\n",
      "308061521170129\n",
      "498454011879264\n",
      "806515533049393\n",
      "1304969544928657\n",
      "2111485077978050\n",
      "3416454622906707\n",
      "5527939700884757\n",
      "8944394323791464\n",
      "14472334024676221\n",
      "23416728348467685\n",
      "37889062373143906\n",
      "61305790721611591\n",
      "99194853094755497\n",
      "160500643816367088\n",
      "259695496911122585\n",
      "420196140727489673\n",
      "679891637638612258\n",
      "1100087778366101931\n",
      "1779979416004714189\n",
      "2880067194370816120\n",
      "4660046610375530309\n",
      "7540113804746346429\n",
      "12200160415121876738\n",
      "19740274219868223167\n",
      "31940434634990099905\n",
      "51680708854858323072\n",
      "83621143489848422977\n",
      "135301852344706746049\n",
      "218922995834555169026\n"
     ]
    }
   ],
   "source": [
    "a = 0\n",
    "b = 1\n",
    "c = 0\n",
    "n = int(input(\"Enter the limit for the series\"))\n",
    "\n",
    "for i in range(n):\n",
    "    c = a+b\n",
    "    print(a)\n",
    "    a = b\n",
    "    b = c"
   ]
  },
  {
   "cell_type": "markdown",
   "metadata": {},
   "source": [
    "Write a python program to reverse the string taken from the user.\n"
   ]
  },
  {
   "cell_type": "code",
   "execution_count": 13,
   "metadata": {},
   "outputs": [
    {
     "name": "stdout",
     "output_type": "stream",
     "text": [
      "nodadadteegnas\n"
     ]
    }
   ],
   "source": [
    "string = input(\"Enter your name\")\n",
    "print(string[::-1])"
   ]
  },
  {
   "cell_type": "markdown",
   "metadata": {},
   "source": [
    "Write a program to print a pattern of numbers like below using a loop:\n",
    "1\n",
    "22\n",
    "333\n",
    "4444\n",
    "55555\n"
   ]
  },
  {
   "cell_type": "code",
   "execution_count": 16,
   "metadata": {},
   "outputs": [
    {
     "name": "stdout",
     "output_type": "stream",
     "text": [
      "1\n",
      "22\n",
      "333\n",
      "4444\n",
      "55555\n"
     ]
    }
   ],
   "source": [
    "for i in range(5):\n",
    "    for j in range(i+1):\n",
    "        print(i+1, end=\"\")\n",
    "    print()"
   ]
  },
  {
   "cell_type": "markdown",
   "metadata": {},
   "source": [
    "**Part 3**\n",
    "Write a program to calculate the sum of all numbers between 1 and 100 that are divisible by both 3 and 5 using a loop."
   ]
  },
  {
   "cell_type": "code",
   "execution_count": 17,
   "metadata": {},
   "outputs": [
    {
     "name": "stdout",
     "output_type": "stream",
     "text": [
      "The sum is 315\n"
     ]
    }
   ],
   "source": [
    "sum = 0\n",
    "for i in range (101):\n",
    "    if i % 3 == 0 and i % 5 == 0:\n",
    "        sum+=i\n",
    "\n",
    "print(f\"The sum is {sum}\")"
   ]
  },
  {
   "cell_type": "markdown",
   "metadata": {},
   "source": [
    "**Write a program to identify whether the user’s input is palindrome or not.**"
   ]
  },
  {
   "cell_type": "code",
   "execution_count": 18,
   "metadata": {},
   "outputs": [
    {
     "name": "stdout",
     "output_type": "stream",
     "text": [
      "It is palindrome\n"
     ]
    }
   ],
   "source": [
    "user_input = input(\"Enter a number: \")\n",
    "if user_input == user_input[::-1]:\n",
    "    print(\"It is palindrome\")\n",
    "else:\n",
    "    print(\"It is not palindrome\")"
   ]
  },
  {
   "cell_type": "markdown",
   "metadata": {},
   "source": [
    "Write a program that:\n",
    "(a) Uses a loop to add up all the even numbers between 100 and 200, inclusive. \n",
    "(b) Sums a series of (positive) integers entered by the user, excluding all numbers that are Greater than 100.\n",
    "(c) Solves (a) but this time using an infinite loop, break and continue statements."
   ]
  },
  {
   "cell_type": "code",
   "execution_count": 19,
   "metadata": {},
   "outputs": [],
   "source": [
    "add = 0\n",
    "for i in range (100,201):\n",
    "    if i%2 == 0:\n",
    "        add+=i\n",
    "print(f\"The sum of even numbers in the range of 100 to 200 is {add}\")"
   ]
  },
  {
   "cell_type": "code",
   "execution_count": 21,
   "metadata": {},
   "outputs": [
    {
     "name": "stdout",
     "output_type": "stream",
     "text": [
      "Press Q to end the program\n",
      "The sum of series of number is 41\n"
     ]
    }
   ],
   "source": [
    "sum = 0\n",
    "user_number = input(\"Enter a number: \")\n",
    "print(\"Press Q to end the program\")\n",
    "\n",
    "while user_number != 'q':\n",
    "    if int(user_number) < 100:\n",
    "        sum +=int(user_number)\n",
    "    user_number = input(\"Enter a number: \")\n",
    "\n",
    "print(f\"The sum of series of number is {sum}\")"
   ]
  },
  {
   "cell_type": "code",
   "execution_count": null,
   "metadata": {},
   "outputs": [],
   "source": [
    "sum = 0\n",
    "user_number = input(\"Enter a number: \")\n",
    "print(\"Press Q to end the program\")\n",
    "\n",
    "while user_number != 'q':\n",
    "    if int(user_number) >=  100 and int(user_number) <= 200:\n",
    "        sum +=int(user_number)\n",
    "    user_number = input(\"Enter a number: \")\n",
    "\n",
    "print(f\"The sum of series of number is {sum}\")"
   ]
  }
 ],
 "metadata": {
  "kernelspec": {
   "display_name": "Python 3",
   "language": "python",
   "name": "python3"
  },
  "language_info": {
   "codemirror_mode": {
    "name": "ipython",
    "version": 3
   },
   "file_extension": ".py",
   "mimetype": "text/x-python",
   "name": "python",
   "nbconvert_exporter": "python",
   "pygments_lexer": "ipython3",
   "version": "3.12.0"
  }
 },
 "nbformat": 4,
 "nbformat_minor": 2
}
