{
 "cells": [
  {
   "cell_type": "markdown",
   "metadata": {},
   "source": [
    "Part 1\n",
    "\n",
    "1) What is a nested loop in Python, and how can it be used to iterate over more complex data\n",
    "structures?\n",
    "\n",
    "- A nested loop in Python is when one loop is placed inside another. It's a technique to iterate over intricate data structures like matrices or multi-dimensional lists. The inner loop runs for each iteration of the outer loop, enabling comprehensive traversal. This construct simplifies the handling of complex data, making it particularly useful for working with multi-layered structures, such as lists within lists within lists. Nested loops offer a concise means of navigating through and processing intricate data arrangements in Python.\n",
    "\n",
    "2) What is the difference between &quot;for&quot; and &quot;while&quot; loops in Python, and when would you use each one?\n",
    "\n",
    "- \"For\" and \"while\" loops in Python both perform iteration, but \"for\" loops are used when the number of iterations is known beforehand. They iterate over a sequence, like a list. \"While\" loops, on the other hand, are employed when the number of iterations isn't predetermined; they continue executing until a specified condition is false. \"For\" is convenient for iterable structures, while \"while\" is adaptable for situations where the iteration depends on a changing condition.\n",
    "\n",
    "3) Python is a dynamically typed language. What does this statement mean?\n",
    "\n",
    "- Python is dynamically typed, meaning variable types are determined at runtime. Unlike statically typed languages where variables must be declared with specific types, Python allows flexibility. A variable's type can change during execution based on assigned values. This dynamic typing simplifies coding but requires careful consideration to avoid unexpected behavior. Python's versatility in handling different data types dynamically contributes to its ease of use and adaptability for diverse programming tasks."
   ]
  },
  {
   "cell_type": "markdown",
   "metadata": {},
   "source": [
    "Write a program to print numbers from 1 to 10. \n"
   ]
  },
  {
   "cell_type": "code",
   "execution_count": 1,
   "metadata": {},
   "outputs": [
    {
     "name": "stdout",
     "output_type": "stream",
     "text": [
      "1\n",
      "2\n",
      "3\n",
      "4\n",
      "5\n",
      "6\n",
      "7\n",
      "8\n",
      "9\n",
      "10\n"
     ]
    }
   ],
   "source": [
    "for i in range(0,10):\n",
    "    print(i+1)"
   ]
  },
  {
   "cell_type": "markdown",
   "metadata": {},
   "source": [
    "Write a program to print all odd numbers between 1 and 15.\n"
   ]
  },
  {
   "cell_type": "code",
   "execution_count": 2,
   "metadata": {},
   "outputs": [
    {
     "name": "stdout",
     "output_type": "stream",
     "text": [
      "1\n",
      "3\n",
      "5\n",
      "7\n",
      "9\n",
      "11\n",
      "13\n"
     ]
    }
   ],
   "source": [
    "for i in range(15):\n",
    "    if i%2 == 1:\n",
    "        print (i)"
   ]
  },
  {
   "cell_type": "markdown",
   "metadata": {},
   "source": [
    " Write a program to calculate the sum of the first 10 natural numbers"
   ]
  },
  {
   "cell_type": "code",
   "execution_count": 3,
   "metadata": {},
   "outputs": [
    {
     "name": "stdout",
     "output_type": "stream",
     "text": [
      "55\n"
     ]
    }
   ],
   "source": [
    "sum = 0\n",
    "for i in range(10):\n",
    "    sum+=i+1\n",
    "print(sum)"
   ]
  },
  {
   "cell_type": "markdown",
   "metadata": {},
   "source": [
    "Write a program that prompts the user to input a positive integer. It should then print the multiplication table of that number up to 10."
   ]
  },
  {
   "cell_type": "code",
   "execution_count": 4,
   "metadata": {},
   "outputs": [
    {
     "name": "stdout",
     "output_type": "stream",
     "text": [
      "10 * 1 = 10\n",
      "10 * 2 = 20\n",
      "10 * 3 = 30\n",
      "10 * 4 = 40\n",
      "10 * 5 = 50\n",
      "10 * 6 = 60\n",
      "10 * 7 = 70\n",
      "10 * 8 = 80\n",
      "10 * 9 = 90\n",
      "10 * 10 = 100\n"
     ]
    }
   ],
   "source": [
    "user = int(input(\"Enter a number: \"))\n",
    "\n",
    "for i in range(10):\n",
    "    multiplication = user * (i+1)\n",
    "    print(f\"{user} * {i+1} = {multiplication}\")"
   ]
  },
  {
   "cell_type": "markdown",
   "metadata": {},
   "source": [
    " Write a program to find the factorial value of any number entered through the keyboard.  \n"
   ]
  },
  {
   "cell_type": "code",
   "execution_count": 5,
   "metadata": {},
   "outputs": [
    {
     "name": "stdout",
     "output_type": "stream",
     "text": [
      "40320\n"
     ]
    }
   ],
   "source": [
    "factorial_number = int(input(\"Enter a number: \"))\n",
    "fact = 1\n",
    "while factorial_number != 0:\n",
    "    fact = fact * factorial_number\n",
    "    factorial_number-=1\n",
    "\n",
    "print(fact)"
   ]
  },
  {
   "cell_type": "markdown",
   "metadata": {},
   "source": [
    " Write a program to enter the numbers till the user wants and at the end it should display the count of positive, negative and zeros entered.\n"
   ]
  },
  {
   "cell_type": "code",
   "execution_count": 6,
   "metadata": {},
   "outputs": [
    {
     "name": "stdout",
     "output_type": "stream",
     "text": [
      "Press Q to end the program\n",
      "Press Q to end the program\n",
      "Press Q to end the program\n",
      "Press Q to end the program\n",
      "Press Q to end the program\n",
      "You entered 2 positive numbers, 2 negative numbers and 1 zeross\n"
     ]
    }
   ],
   "source": [
    "positive_count = 0\n",
    "negative_count = 0\n",
    "zero_count = 0\n",
    "\n",
    "user_number = input(\"Enter a number: \")\n",
    "print(\"Press Q to end the program\")\n",
    "\n",
    "while user_number != 'q':\n",
    "    if int(user_number) > 0:\n",
    "        positive_count+=1\n",
    "    elif int(user_number) < 0:\n",
    "        negative_count+=1\n",
    "    else:\n",
    "        zero_count+=1\n",
    "    user_number = input(\"Enter a number: \")\n",
    "\n",
    "print(f\"You entered {positive_count} positive numbers, {negative_count} negative numbers and {zero_count} zeross\")"
   ]
  },
  {
   "cell_type": "markdown",
   "metadata": {},
   "source": [
    " Write a program to print Fibonacci series of n terms where n is input by user:  \n",
    "0 1 1 2 3 5 8 13 24 ....\n"
   ]
  },
  {
   "cell_type": "code",
   "execution_count": 8,
   "metadata": {},
   "outputs": [
    {
     "name": "stdout",
     "output_type": "stream",
     "text": [
      "0\n",
      "1\n",
      "1\n",
      "2\n",
      "3\n",
      "5\n",
      "8\n",
      "13\n",
      "21\n",
      "34\n",
      "55\n",
      "89\n",
      "144\n",
      "233\n",
      "377\n",
      "610\n",
      "987\n",
      "1597\n",
      "2584\n",
      "4181\n",
      "6765\n",
      "10946\n",
      "17711\n",
      "28657\n",
      "46368\n",
      "75025\n",
      "121393\n",
      "196418\n",
      "317811\n",
      "514229\n",
      "832040\n",
      "1346269\n",
      "2178309\n",
      "3524578\n",
      "5702887\n",
      "9227465\n",
      "14930352\n",
      "24157817\n",
      "39088169\n",
      "63245986\n",
      "102334155\n",
      "165580141\n",
      "267914296\n",
      "433494437\n",
      "701408733\n",
      "1134903170\n",
      "1836311903\n",
      "2971215073\n",
      "4807526976\n",
      "7778742049\n",
      "12586269025\n",
      "20365011074\n",
      "32951280099\n",
      "53316291173\n",
      "86267571272\n",
      "139583862445\n",
      "225851433717\n",
      "365435296162\n",
      "591286729879\n",
      "956722026041\n",
      "1548008755920\n",
      "2504730781961\n",
      "4052739537881\n",
      "6557470319842\n",
      "10610209857723\n",
      "17167680177565\n",
      "27777890035288\n",
      "44945570212853\n",
      "72723460248141\n",
      "117669030460994\n",
      "190392490709135\n",
      "308061521170129\n",
      "498454011879264\n",
      "806515533049393\n",
      "1304969544928657\n",
      "2111485077978050\n",
      "3416454622906707\n",
      "5527939700884757\n",
      "8944394323791464\n",
      "14472334024676221\n",
      "23416728348467685\n",
      "37889062373143906\n",
      "61305790721611591\n",
      "99194853094755497\n",
      "160500643816367088\n",
      "259695496911122585\n",
      "420196140727489673\n",
      "679891637638612258\n",
      "1100087778366101931\n",
      "1779979416004714189\n",
      "2880067194370816120\n",
      "4660046610375530309\n",
      "7540113804746346429\n",
      "12200160415121876738\n",
      "19740274219868223167\n",
      "31940434634990099905\n",
      "51680708854858323072\n",
      "83621143489848422977\n",
      "135301852344706746049\n",
      "218922995834555169026\n"
     ]
    }
   ],
   "source": [
    "a = 0\n",
    "b = 1\n",
    "c = 0\n",
    "n = int(input(\"Enter the limit for the series\"))\n",
    "\n",
    "for i in range(n):\n",
    "    c = a+b\n",
    "    print(a)\n",
    "    a = b\n",
    "    b = c"
   ]
  },
  {
   "cell_type": "markdown",
   "metadata": {},
   "source": [
    "Write a python program to reverse the string taken from the user.\n"
   ]
  },
  {
   "cell_type": "code",
   "execution_count": 13,
   "metadata": {},
   "outputs": [
    {
     "name": "stdout",
     "output_type": "stream",
     "text": [
      "nodadadteegnas\n"
     ]
    }
   ],
   "source": [
    "string = input(\"Enter your name\")\n",
    "print(string[::-1])"
   ]
  },
  {
   "cell_type": "markdown",
   "metadata": {},
   "source": [
    "Write a program to print a pattern of numbers like below using a loop:\n",
    "1\n",
    "22\n",
    "333\n",
    "4444\n",
    "55555\n"
   ]
  },
  {
   "cell_type": "code",
   "execution_count": 16,
   "metadata": {},
   "outputs": [
    {
     "name": "stdout",
     "output_type": "stream",
     "text": [
      "1\n",
      "22\n",
      "333\n",
      "4444\n",
      "55555\n"
     ]
    }
   ],
   "source": [
    "for i in range(5):\n",
    "    for j in range(i+1):\n",
    "        print(i+1, end=\"\")\n",
    "    print()"
   ]
  },
  {
   "cell_type": "markdown",
   "metadata": {},
   "source": [
    "**Part 3**\n",
    "Write a program to calculate the sum of all numbers between 1 and 100 that are divisible by both 3 and 5 using a loop."
   ]
  },
  {
   "cell_type": "code",
   "execution_count": 17,
   "metadata": {},
   "outputs": [
    {
     "name": "stdout",
     "output_type": "stream",
     "text": [
      "The sum is 315\n"
     ]
    }
   ],
   "source": [
    "sum = 0\n",
    "for i in range (101):\n",
    "    if i % 3 == 0 and i % 5 == 0:\n",
    "        sum+=i\n",
    "\n",
    "print(f\"The sum is {sum}\")"
   ]
  },
  {
   "cell_type": "markdown",
   "metadata": {},
   "source": [
    "**Write a program to identify whether the user’s input is palindrome or not.**"
   ]
  },
  {
   "cell_type": "code",
   "execution_count": 18,
   "metadata": {},
   "outputs": [
    {
     "name": "stdout",
     "output_type": "stream",
     "text": [
      "It is palindrome\n"
     ]
    }
   ],
   "source": [
    "user_input = input(\"Enter a number: \")\n",
    "if user_input == user_input[::-1]:\n",
    "    print(\"It is palindrome\")\n",
    "else:\n",
    "    print(\"It is not palindrome\")"
   ]
  },
  {
   "cell_type": "markdown",
   "metadata": {},
   "source": [
    "Write a program that:\n",
    "(a) Uses a loop to add up all the even numbers between 100 and 200, inclusive. \n",
    "(b) Sums a series of (positive) integers entered by the user, excluding all numbers that are Greater than 100.\n",
    "(c) Solves (a) but this time using an infinite loop, break and continue statements."
   ]
  },
  {
   "cell_type": "code",
   "execution_count": 19,
   "metadata": {},
   "outputs": [],
   "source": [
    "add = 0\n",
    "for i in range (100,201):\n",
    "    if i%2 == 0:\n",
    "        add+=i\n",
    "print(f\"The sum of even numbers in the range of 100 to 200 is {add}\")"
   ]
  },
  {
   "cell_type": "code",
   "execution_count": 21,
   "metadata": {},
   "outputs": [
    {
     "name": "stdout",
     "output_type": "stream",
     "text": [
      "Press Q to end the program\n",
      "The sum of series of number is 41\n"
     ]
    }
   ],
   "source": [
    "sum = 0\n",
    "user_number = input(\"Enter a number: \")\n",
    "print(\"Press Q to end the program\")\n",
    "\n",
    "while user_number != 'q':\n",
    "    if int(user_number) < 100:\n",
    "        sum +=int(user_number)\n",
    "    user_number = input(\"Enter a number: \")\n",
    "\n",
    "print(f\"The sum of series of number is {sum}\")"
   ]
  },
  {
   "cell_type": "code",
   "execution_count": 7,
   "metadata": {},
   "outputs": [
    {
     "name": "stdout",
     "output_type": "stream",
     "text": [
      "Press Q to end the program\n"
     ]
    },
    {
     "ename": "ValueError",
     "evalue": "invalid literal for int() with base 10: ''",
     "output_type": "error",
     "traceback": [
      "\u001b[1;31m---------------------------------------------------------------------------\u001b[0m",
      "\u001b[1;31mValueError\u001b[0m                                Traceback (most recent call last)",
      "Cell \u001b[1;32mIn[7], line 6\u001b[0m\n\u001b[0;32m      3\u001b[0m \u001b[38;5;28mprint\u001b[39m(\u001b[38;5;124m\"\u001b[39m\u001b[38;5;124mPress Q to end the program\u001b[39m\u001b[38;5;124m\"\u001b[39m)\n\u001b[0;32m      5\u001b[0m \u001b[38;5;28;01mwhile\u001b[39;00m \u001b[38;5;28;01mTrue\u001b[39;00m:\n\u001b[1;32m----> 6\u001b[0m     \u001b[38;5;28;01mif\u001b[39;00m \u001b[38;5;28;43mint\u001b[39;49m\u001b[43m(\u001b[49m\u001b[43muser_number\u001b[49m\u001b[43m)\u001b[49m \u001b[38;5;241m>\u001b[39m\u001b[38;5;241m=\u001b[39m  \u001b[38;5;241m100\u001b[39m \u001b[38;5;129;01mand\u001b[39;00m \u001b[38;5;28mint\u001b[39m(user_number) \u001b[38;5;241m<\u001b[39m\u001b[38;5;241m=\u001b[39m \u001b[38;5;241m200\u001b[39m:\n\u001b[0;32m      7\u001b[0m         \u001b[38;5;28msum\u001b[39m \u001b[38;5;241m+\u001b[39m\u001b[38;5;241m=\u001b[39m\u001b[38;5;28mint\u001b[39m(user_number)\n\u001b[0;32m      8\u001b[0m     user_number \u001b[38;5;241m=\u001b[39m \u001b[38;5;28minput\u001b[39m(\u001b[38;5;124m\"\u001b[39m\u001b[38;5;124mEnter a number: \u001b[39m\u001b[38;5;124m\"\u001b[39m)\n",
      "\u001b[1;31mValueError\u001b[0m: invalid literal for int() with base 10: ''"
     ]
    }
   ],
   "source": [
    "sum = 0\n",
    "user_number = input(\"Enter a number: \")\n",
    "print(\"Press Q to end the program\")\n",
    "\n",
    "while True:\n",
    "    if int(user_number) >=  100 and int(user_number) <= 200:\n",
    "        sum +=int(user_number)\n",
    "    user_number = input(\"Enter a number: \")\n",
    "    if user_number == 'q':\n",
    "        break\n",
    "    else:\n",
    "        continue\n",
    "\n",
    "print(f\"The sum of series of number is {sum}\")"
   ]
  },
  {
   "cell_type": "markdown",
   "metadata": {},
   "source": [
    "The following while loop is meant to multiply a series of integers input by the user, until a sentinel value of 0 is entered. Indicate any errors in the code given. See if you can fix the program and get it running."
   ]
  },
  {
   "cell_type": "code",
   "execution_count": null,
   "metadata": {},
   "outputs": [
    {
     "name": "stdout",
     "output_type": "stream",
     "text": [
      "product =  138\n"
     ]
    }
   ],
   "source": [
    "product = 1\n",
    "num = int(input('Enter first number: '))\n",
    "while num != 0:\n",
    "    product = product * num\n",
    "    num = int(input('Enter number: '))\n",
    "\n",
    "print('product = ', product)"
   ]
  },
  {
   "cell_type": "markdown",
   "metadata": {},
   "source": [
    "For each of the following, indicate which the definite loop is, and which an indefinite loop,\n",
    "explain your reasoning.\n",
    "\n",
    "\n",
    "The second block of code is the definite loop because we know exactly when the loop will end due to the incerement in \"n\". The second block of code is indefinite because we don't exactly know when the loop will end."
   ]
  },
  {
   "cell_type": "markdown",
   "metadata": {},
   "source": []
  },
  {
   "cell_type": "markdown",
   "metadata": {},
   "source": [
    "Write a program to find the largest digit in a number entered by the user using a loop."
   ]
  },
  {
   "cell_type": "code",
   "execution_count": null,
   "metadata": {},
   "outputs": [],
   "source": [
    "user_number = input(\"Enter your number: \")\n",
    "\n",
    "temp = 0\n",
    "#initializing loop\n",
    "for i in range(len(user_number)):\n",
    "    for j in range(len(user_number)):\n",
    "        if user_number[i] > user_number[j]:\n",
    "            temp = user_number[j]\n",
    "        else:\n",
    "            temp = user_number[i]\n",
    "\n",
    "#printing the highest digit and converting the input to integer for later use\n",
    "print(f\"{temp} is the largest digit!\")\n",
    "int(user_number)"
   ]
  },
  {
   "cell_type": "markdown",
   "metadata": {},
   "source": [
    "Write a program that uses a loop to count the number of vowels in a given string."
   ]
  },
  {
   "cell_type": "code",
   "execution_count": null,
   "metadata": {},
   "outputs": [],
   "source": [
    "user_string = input(\"Enter your string: \")\n",
    "vowels = ['a','e','i','o','u']\n",
    "temp = 0\n",
    "#initializing loop\n",
    "for i in range(len(user_string)):\n",
    "    if user_number[i] in vowels:\n",
    "            temp += 1\n",
    "\n",
    "\n",
    "print(f\"There are {temp} vowels in {user_string}\")"
   ]
  },
  {
   "cell_type": "markdown",
   "metadata": {},
   "source": [
    "Write a Python program for a number guessing game where the computer chooses a random number between 1 and 20, and the player has five chances to guess the number. Use a for loop to limit the number of guesses the player can make. After each guess, the program should tell the player whether the guess was too high or too low. If the player correctly guesses the number, the program should congratulate the player and end the game. If the player runs out of guesses, the program should reveal the number and show the player's guesses."
   ]
  },
  {
   "cell_type": "code",
   "execution_count": null,
   "metadata": {},
   "outputs": [
    {
     "name": "stdout",
     "output_type": "stream",
     "text": [
      "Welcome to the Number Guessing Game!\n",
      "Too high! Try again.\n",
      "Too high! Try again.\n",
      "Too low! Try again.\n",
      "Too low! Try again.\n",
      "Too low! Try again.\n",
      "Sorry, you've run out of chances. The correct number was 1.\n"
     ]
    }
   ],
   "source": [
    "import random\n",
    "print(\"Welcome to the Number Guessing Game!\")\n",
    "    \n",
    "    # Generate a random number between 1 and 20\n",
    "secret_number = random.randint(1, 20)\n",
    "\n",
    "    # Set the number of chances\n",
    "max_chances = 5\n",
    "\n",
    "for attempt in range(1, max_chances + 1):\n",
    "    guess = int(input(f\"Attempt {attempt}/{max_chances}: Enter your guess (1-20): \"))\n",
    "    if guess == secret_number:\n",
    "        print(f\"Congratulations! You guessed the correct number ({secret_number})!\")\n",
    "        break\n",
    "    elif guess < secret_number:\n",
    "        print(\"Too low! Try again.\")\n",
    "    else:\n",
    "        print(\"Too high! Try again.\")\n",
    "else:\n",
    "    print(f\"Sorry, you've run out of chances. The correct number was {secret_number}.\")\n"
   ]
  },
  {
   "cell_type": "markdown",
   "metadata": {},
   "source": []
  }
 ],
 "metadata": {
  "kernelspec": {
   "display_name": "Python 3",
   "language": "python",
   "name": "python3"
  },
  "language_info": {
   "codemirror_mode": {
    "name": "ipython",
    "version": 3
   },
   "file_extension": ".py",
   "mimetype": "text/x-python",
   "name": "python",
   "nbconvert_exporter": "python",
   "pygments_lexer": "ipython3",
   "version": "3.12.0"
  }
 },
 "nbformat": 4,
 "nbformat_minor": 2
}
